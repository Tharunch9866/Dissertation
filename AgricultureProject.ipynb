{
 "cells": [
  {
   "cell_type": "markdown",
   "metadata": {
    "id": "F7RlXc0dHq6v"
   },
   "source": [
    "# Libraries Setup\n",
    "\n",
    "Here in this part of the code we will import all the necessary libraries needed for the project"
   ]
  },
  {
   "cell_type": "code",
   "execution_count": 2,
   "metadata": {
    "id": "4c38JunQHY4P"
   },
   "outputs": [],
   "source": [
    "import pandas as pd # for reading the data file\n",
    "import numpy as np\n",
    "import matplotlib.pyplot as plt # for plotting graphs and all\n",
    "import seaborn as sns # also for plotting graphs\n",
    "\n",
    "from sklearn.preprocessing import LabelEncoder\n",
    "import statsmodels.api as sm\n",
    "from sklearn.ensemble import RandomForestRegressor\n",
    "from sklearn.model_selection import train_test_split\n",
    "from sklearn.metrics import mean_squared_error, r2_score, mean_absolute_error\n",
    "\n",
    "from sklearn.preprocessing import OneHotEncoder\n",
    "\n",
    "import pandas as pd\n",
    "import matplotlib.pyplot as plt\n",
    "from statsmodels.tsa.api import VAR\n",
    "import math\n",
    "import tensorflow as tf\n",
    "from tensorflow.keras.models import Sequential\n",
    "from tensorflow.keras.layers import Dense, LSTM, GRU, Dropout\n",
    "from tensorflow.keras.callbacks import EarlyStopping\n",
    "import statsmodels.api as sm\n",
    "from sklearn.preprocessing import StandardScaler, MinMaxScaler\n",
    "import warnings\n",
    "warnings.filterwarnings(\"ignore\")"
   ]
  },
  {
   "cell_type": "markdown",
   "metadata": {
    "id": "l3G5gXDFIYey"
   },
   "source": [
    "# Reading the Dataset and Performing Initial EDA\n",
    "\n",
    "In this part of the code we will read the dataset which is present in the csv format. After reading the dataset we will do iniital exploratory data analysis to get better understanding of the dataset and understand which preprocessing technqiues were require."
   ]
  },
  {
   "cell_type": "code",
   "execution_count": 3,
   "metadata": {
    "id": "OMrOv2gxIAsX"
   },
   "outputs": [],
   "source": [
    "yield_data = pd.read_csv('01-FMYIELD/01-BKfmyield9717/yield_data.csv', na_values=['Nil','nil','*', \"MISSING\", 'Missing', \"missing\"]) # using pandas to read the dataset"
   ]
  },
  {
   "cell_type": "code",
   "execution_count": 4,
   "metadata": {},
   "outputs": [
    {
     "data": {
      "text/plain": [
       "array([nan, 'Mg', 'Mg*', '1/2 Mg', 'Mg2', '(Mg*)'], dtype=object)"
      ]
     },
     "execution_count": 4,
     "metadata": {},
     "output_type": "execute_result"
    }
   ],
   "source": [
    "yield_data['mg_factor_level'].unique()"
   ]
  },
  {
   "cell_type": "code",
   "execution_count": 5,
   "metadata": {
    "colab": {
     "base_uri": "https://localhost:8080/",
     "height": 360
    },
    "id": "_xGGz68cIQEg",
    "outputId": "995028b0-fb06-4a10-841c-a1eeded2458c"
   },
   "outputs": [
    {
     "data": {
      "text/html": [
       "<div>\n",
       "<style scoped>\n",
       "    .dataframe tbody tr th:only-of-type {\n",
       "        vertical-align: middle;\n",
       "    }\n",
       "\n",
       "    .dataframe tbody tr th {\n",
       "        vertical-align: top;\n",
       "    }\n",
       "\n",
       "    .dataframe thead th {\n",
       "        text-align: right;\n",
       "    }\n",
       "</style>\n",
       "<table border=\"1\" class=\"dataframe\">\n",
       "  <thead>\n",
       "    <tr style=\"text-align: right;\">\n",
       "      <th></th>\n",
       "      <th>harvest_year</th>\n",
       "      <th>strip</th>\n",
       "      <th>section</th>\n",
       "      <th>plot</th>\n",
       "      <th>section_1926-67</th>\n",
       "      <th>fertilizer_code</th>\n",
       "      <th>crop</th>\n",
       "      <th>previous_crop</th>\n",
       "      <th>fym_factor_level</th>\n",
       "      <th>fym_applied</th>\n",
       "      <th>...</th>\n",
       "      <th>na_date</th>\n",
       "      <th>mg_factor_level</th>\n",
       "      <th>mg_amount</th>\n",
       "      <th>mg_date</th>\n",
       "      <th>sow_date</th>\n",
       "      <th>harvest_date</th>\n",
       "      <th>cultivar</th>\n",
       "      <th>dry_matter_%</th>\n",
       "      <th>yield_100%dm</th>\n",
       "      <th>note</th>\n",
       "    </tr>\n",
       "  </thead>\n",
       "  <tbody>\n",
       "    <tr>\n",
       "      <th>0</th>\n",
       "      <td>1997</td>\n",
       "      <td>1</td>\n",
       "      <td>3</td>\n",
       "      <td>1\\3</td>\n",
       "      <td>II</td>\n",
       "      <td>FYM N4 PK</td>\n",
       "      <td>maize</td>\n",
       "      <td>oats</td>\n",
       "      <td>FYM</td>\n",
       "      <td>35</td>\n",
       "      <td>...</td>\n",
       "      <td>NaN</td>\n",
       "      <td>NaN</td>\n",
       "      <td>0</td>\n",
       "      <td>NaN</td>\n",
       "      <td>1997-04-23</td>\n",
       "      <td>1997-09-17</td>\n",
       "      <td>Hudson</td>\n",
       "      <td>36.7</td>\n",
       "      <td>16.36</td>\n",
       "      <td>2</td>\n",
       "    </tr>\n",
       "    <tr>\n",
       "      <th>1</th>\n",
       "      <td>1997</td>\n",
       "      <td>21</td>\n",
       "      <td>3</td>\n",
       "      <td>21\\3</td>\n",
       "      <td>II</td>\n",
       "      <td>FYM N2</td>\n",
       "      <td>maize</td>\n",
       "      <td>oats</td>\n",
       "      <td>FYM</td>\n",
       "      <td>35</td>\n",
       "      <td>...</td>\n",
       "      <td>NaN</td>\n",
       "      <td>NaN</td>\n",
       "      <td>0</td>\n",
       "      <td>NaN</td>\n",
       "      <td>1997-04-23</td>\n",
       "      <td>1997-09-17</td>\n",
       "      <td>Hudson</td>\n",
       "      <td>35.8</td>\n",
       "      <td>17.45</td>\n",
       "      <td>2,15</td>\n",
       "    </tr>\n",
       "    <tr>\n",
       "      <th>2</th>\n",
       "      <td>1997</td>\n",
       "      <td>22</td>\n",
       "      <td>3</td>\n",
       "      <td>22\\3</td>\n",
       "      <td>II</td>\n",
       "      <td>FYM</td>\n",
       "      <td>maize</td>\n",
       "      <td>oats</td>\n",
       "      <td>FYM</td>\n",
       "      <td>35</td>\n",
       "      <td>...</td>\n",
       "      <td>NaN</td>\n",
       "      <td>NaN</td>\n",
       "      <td>0</td>\n",
       "      <td>NaN</td>\n",
       "      <td>1997-04-23</td>\n",
       "      <td>1997-09-17</td>\n",
       "      <td>Hudson</td>\n",
       "      <td>37.4</td>\n",
       "      <td>17.53</td>\n",
       "      <td>2,15</td>\n",
       "    </tr>\n",
       "    <tr>\n",
       "      <th>3</th>\n",
       "      <td>1997</td>\n",
       "      <td>3</td>\n",
       "      <td>3</td>\n",
       "      <td>3\\3</td>\n",
       "      <td>II</td>\n",
       "      <td>NaN</td>\n",
       "      <td>maize</td>\n",
       "      <td>oats</td>\n",
       "      <td>NaN</td>\n",
       "      <td>0</td>\n",
       "      <td>...</td>\n",
       "      <td>NaN</td>\n",
       "      <td>NaN</td>\n",
       "      <td>0</td>\n",
       "      <td>NaN</td>\n",
       "      <td>1997-04-23</td>\n",
       "      <td>1997-09-17</td>\n",
       "      <td>Hudson</td>\n",
       "      <td>31.7</td>\n",
       "      <td>3.64</td>\n",
       "      <td>2</td>\n",
       "    </tr>\n",
       "    <tr>\n",
       "      <th>4</th>\n",
       "      <td>1997</td>\n",
       "      <td>5</td>\n",
       "      <td>3</td>\n",
       "      <td>5\\3</td>\n",
       "      <td>II</td>\n",
       "      <td>PKMg</td>\n",
       "      <td>maize</td>\n",
       "      <td>oats</td>\n",
       "      <td>NaN</td>\n",
       "      <td>0</td>\n",
       "      <td>...</td>\n",
       "      <td>NaN</td>\n",
       "      <td>Mg</td>\n",
       "      <td>0</td>\n",
       "      <td>NaN</td>\n",
       "      <td>1997-04-23</td>\n",
       "      <td>1997-09-17</td>\n",
       "      <td>Hudson</td>\n",
       "      <td>31.3</td>\n",
       "      <td>4.80</td>\n",
       "      <td>2,13</td>\n",
       "    </tr>\n",
       "  </tbody>\n",
       "</table>\n",
       "<p>5 rows × 37 columns</p>\n",
       "</div>"
      ],
      "text/plain": [
       "   harvest_year  strip  section  plot section_1926-67 fertilizer_code   crop  \\\n",
       "0          1997      1        3   1\\3              II       FYM N4 PK  maize   \n",
       "1          1997     21        3  21\\3              II          FYM N2  maize   \n",
       "2          1997     22        3  22\\3              II             FYM  maize   \n",
       "3          1997      3        3   3\\3              II             NaN  maize   \n",
       "4          1997      5        3   5\\3              II            PKMg  maize   \n",
       "\n",
       "  previous_crop fym_factor_level  fym_applied  ... na_date mg_factor_level  \\\n",
       "0          oats              FYM           35  ...     NaN             NaN   \n",
       "1          oats              FYM           35  ...     NaN             NaN   \n",
       "2          oats              FYM           35  ...     NaN             NaN   \n",
       "3          oats              NaN            0  ...     NaN             NaN   \n",
       "4          oats              NaN            0  ...     NaN              Mg   \n",
       "\n",
       "  mg_amount mg_date    sow_date harvest_date  cultivar dry_matter_%  \\\n",
       "0         0     NaN  1997-04-23   1997-09-17    Hudson         36.7   \n",
       "1         0     NaN  1997-04-23   1997-09-17    Hudson         35.8   \n",
       "2         0     NaN  1997-04-23   1997-09-17    Hudson         37.4   \n",
       "3         0     NaN  1997-04-23   1997-09-17    Hudson         31.7   \n",
       "4         0     NaN  1997-04-23   1997-09-17    Hudson         31.3   \n",
       "\n",
       "   yield_100%dm  note  \n",
       "0         16.36     2  \n",
       "1         17.45  2,15  \n",
       "2         17.53  2,15  \n",
       "3          3.64     2  \n",
       "4          4.80  2,13  \n",
       "\n",
       "[5 rows x 37 columns]"
      ]
     },
     "execution_count": 5,
     "metadata": {},
     "output_type": "execute_result"
    }
   ],
   "source": [
    "yield_data.head() # printing the first few rows of the dataset to perform manual inspection"
   ]
  },
  {
   "cell_type": "markdown",
   "metadata": {
    "id": "iNL8u783Jfu3"
   },
   "source": [
    "From manual inspection, it is clearly the time series data where year will act as the time. There are information related to the field like field layout, fertilizers used and type of crop grown and so on. From quick view it looks like the main crop is maize which have been planted on the field. There is also information about which crop was previously planted in the field before maize. The detailed description of the data is provided below:\n",
    "\n",
    "### Dataset Description\n",
    "| Column Name               | Description                                                                 |\n",
    "|---------------------------|-----------------------------------------------------------------------------|\n",
    "| harvest_year              | Year in which the crop was harvested                                        |\n",
    "| strip                     | Experimental strip number or ID                                             |\n",
    "| section                   | Field section number                                                        |\n",
    "| plot                      | Unique plot identifier (e.g., \"1\\\\3\")                                       |\n",
    "| section_1926-67           | Historical section identifier (from earlier experimental layout)            |\n",
    "| fertilizer_code           | Combined code for fertilizer treatment applied                              |\n",
    "| crop                      | Crop grown during that season (e.g., maize)                                 |\n",
    "| previous_crop             | Crop grown in the previous season                                           |\n",
    "| fym_factor_level          | Level/category of FYM (farmyard manure) treatment                           |\n",
    "| fym_applied               | Quantity of FYM applied (tonnes per hectare)                                |\n",
    "| fym_date                  | Date FYM was applied                                                        |\n",
    "| castor_meal_factor_level | Level of castor meal applied (if any)                                       |\n",
    "| n_factor_level            | Level of nitrogen (N) fertilizer applied (e.g., N2, N4)                      |\n",
    "| n_timing                  | Timing of nitrogen application (e.g., mid_spring)                           |\n",
    "| spring1_n_kg/ha           | First spring nitrogen application rate (kg/ha)                              |\n",
    "| spring1_n_date            | Date of first spring nitrogen application                                   |\n",
    "| spring2_n_kg/ha           | Second spring nitrogen application rate (kg/ha), if any                     |\n",
    "| spring2_n_date            | Date of second nitrogen application                                         |\n",
    "| total_fertilizer_n_amount| Total nitrogen applied (spring1 + spring2)                                  |\n",
    "| p_factor_level            | Level/category of phosphorus (P) treatment                                  |\n",
    "| p_amount                  | Amount of phosphorus applied (kg/ha)                                        |\n",
    "| p_date                    | Date of phosphorus application                                              |\n",
    "| k_factor_level            | Level/category of potassium (K) treatment                                   |\n",
    "| k_amount                  | Amount of potassium applied (kg/ha)                                         |\n",
    "| k_date                    | Date of potassium application                                               |\n",
    "| na_factor_level           | Sodium (Na) treatment level/category                                        |\n",
    "| na_amount                 | Sodium amount applied (kg/ha)                                               |\n",
    "| na_date                   | Date of sodium application                                                  |\n",
    "| mg_factor_level           | Magnesium (Mg) treatment level/category                                     |\n",
    "| mg_amount                 | Magnesium amount applied (kg/ha)                                            |\n",
    "| mg_date                   | Date of magnesium application                                               |\n",
    "| sow_date                  | Sowing date of the crop                                                     |\n",
    "| harvest_date              | Harvest date of the crop                                                    |\n",
    "| cultivar                  | Crop cultivar/variety used (e.g., Hudson)                                   |\n",
    "| dry_matter_%              | Dry matter percentage in the harvested crop                                 |\n",
    "| yield_100%dm              | Yield expressed at 100% dry matter (tonnes per hectare)                     |\n",
    "| note                      | Notes or codes for special treatments, replications, or other annotations   |\n"
   ]
  },
  {
   "cell_type": "code",
   "execution_count": 6,
   "metadata": {
    "colab": {
     "base_uri": "https://localhost:8080/"
    },
    "id": "TLOWwmd8IXAH",
    "outputId": "d488e8d9-79e2-4408-9a6d-e62d32d41771"
   },
   "outputs": [
    {
     "data": {
      "text/plain": [
       "(399, 37)"
      ]
     },
     "execution_count": 6,
     "metadata": {},
     "output_type": "execute_result"
    }
   ],
   "source": [
    "# looking into the dimension of the dataset\n",
    "yield_data.shape"
   ]
  },
  {
   "cell_type": "code",
   "execution_count": 7,
   "metadata": {
    "colab": {
     "base_uri": "https://localhost:8080/",
     "height": 1000
    },
    "id": "Dxhj6so8RSY0",
    "outputId": "2a6e2516-088a-472f-9ea7-0bd33b215437"
   },
   "outputs": [
    {
     "data": {
      "text/plain": [
       "harvest_year                   int64\n",
       "strip                          int64\n",
       "section                        int64\n",
       "plot                          object\n",
       "section_1926-67               object\n",
       "fertilizer_code               object\n",
       "crop                          object\n",
       "previous_crop                 object\n",
       "fym_factor_level              object\n",
       "fym_applied                    int64\n",
       "fym_date                      object\n",
       "castor_meal_factor_level      object\n",
       "n_factor_level                object\n",
       "n_timing                      object\n",
       "spring1_n_kg/ha                int64\n",
       "spring1_n_date                object\n",
       "spring2_n_kg/ha                int64\n",
       "spring2_n_date                object\n",
       "total_fertilizer_n_amount      int64\n",
       "p_factor_level                object\n",
       "p_amount                     float64\n",
       "p_date                        object\n",
       "k_factor_level                object\n",
       "k_amount                       int64\n",
       "k_date                        object\n",
       "na_factor_level               object\n",
       "na_amount                      int64\n",
       "na_date                       object\n",
       "mg_factor_level               object\n",
       "mg_amount                      int64\n",
       "mg_date                       object\n",
       "sow_date                      object\n",
       "harvest_date                  object\n",
       "cultivar                      object\n",
       "dry_matter_%                 float64\n",
       "yield_100%dm                 float64\n",
       "note                          object\n",
       "dtype: object"
      ]
     },
     "execution_count": 7,
     "metadata": {},
     "output_type": "execute_result"
    }
   ],
   "source": [
    "yield_data.dtypes"
   ]
  },
  {
   "cell_type": "markdown",
   "metadata": {
    "id": "wESQ6tErKVGn"
   },
   "source": [
    "Looking at the dimension of the dataset, there are around 399 rows and around 37 columns. The dimension of the data is large and might need dimensionality reduction in later phases."
   ]
  },
  {
   "cell_type": "markdown",
   "metadata": {
    "id": "yYJJEcFQLOoB"
   },
   "source": [
    "### Checking for Missing Values\n",
    "\n",
    "In this part of the code we check if the data has missing values or not."
   ]
  },
  {
   "cell_type": "code",
   "execution_count": 7,
   "metadata": {
    "colab": {
     "base_uri": "https://localhost:8080/",
     "height": 1000
    },
    "id": "tHOBCnOrJc02",
    "outputId": "202e0c3b-7bae-4365-b906-cd8459262bfe"
   },
   "outputs": [
    {
     "data": {
      "text/plain": [
       "harvest_year                   0\n",
       "strip                          0\n",
       "section                        0\n",
       "plot                           0\n",
       "section_1926-67                0\n",
       "fertilizer_code               21\n",
       "crop                           0\n",
       "previous_crop                  0\n",
       "fym_factor_level             336\n",
       "fym_applied                    0\n",
       "fym_date                     353\n",
       "castor_meal_factor_level     395\n",
       "n_factor_level                67\n",
       "n_timing                      67\n",
       "spring1_n_kg/ha                0\n",
       "spring1_n_date                67\n",
       "spring2_n_kg/ha                0\n",
       "spring2_n_date               331\n",
       "total_fertilizer_n_amount      0\n",
       "p_factor_level               122\n",
       "p_amount                       0\n",
       "p_date                       258\n",
       "k_factor_level               130\n",
       "k_amount                       0\n",
       "k_date                       130\n",
       "na_factor_level              189\n",
       "na_amount                      0\n",
       "na_date                      395\n",
       "mg_factor_level              138\n",
       "mg_amount                      0\n",
       "mg_date                      182\n",
       "sow_date                       0\n",
       "harvest_date                   0\n",
       "cultivar                       0\n",
       "dry_matter_%                   0\n",
       "yield_100%dm                   0\n",
       "note                         260\n",
       "dtype: int64"
      ]
     },
     "execution_count": 7,
     "metadata": {},
     "output_type": "execute_result"
    }
   ],
   "source": [
    "yield_data.isna().sum()"
   ]
  },
  {
   "cell_type": "markdown",
   "metadata": {
    "id": "1nz7dOX5MIrX"
   },
   "source": [
    "There are lot of values in the dataset. Some columns have fewer number of missing values while some has very high number of missing values. Thus, we need to use some imputation technqiue to handle the missing values in preprocessing stage."
   ]
  },
  {
   "cell_type": "code",
   "execution_count": 8,
   "metadata": {
    "id": "IND43mrZMUpf"
   },
   "outputs": [],
   "source": [
    "# Convert numeric columns\n",
    "numeric_cols = [\n",
    "    'fym_applied', 'spring1_n_kg/ha', 'spring2_n_kg/ha', 'total_fertilizer_n_amount',\n",
    "    'p_amount', 'k_amount', 'na_amount', 'mg_amount', 'dry_matter_%', 'yield_100%dm'\n",
    "]"
   ]
  },
  {
   "cell_type": "code",
   "execution_count": 9,
   "metadata": {
    "id": "r4zPNO-RLePm"
   },
   "outputs": [],
   "source": [
    "for col in numeric_cols:\n",
    "    yield_data[col] = pd.to_numeric(yield_data[col])"
   ]
  },
  {
   "cell_type": "code",
   "execution_count": 10,
   "metadata": {},
   "outputs": [
    {
     "data": {
      "text/plain": [
       "array([nan, 'Mg', 'Mg*', '1/2 Mg', 'Mg2', '(Mg*)'], dtype=object)"
      ]
     },
     "execution_count": 10,
     "metadata": {},
     "output_type": "execute_result"
    }
   ],
   "source": [
    "yield_data['mg_factor_level'].unique()"
   ]
  },
  {
   "cell_type": "markdown",
   "metadata": {
    "id": "a_6uFVKCM5wC"
   },
   "source": [
    "### Checking Sumary Statistics"
   ]
  },
  {
   "cell_type": "code",
   "execution_count": 11,
   "metadata": {
    "colab": {
     "base_uri": "https://localhost:8080/",
     "height": 320
    },
    "id": "M00RsgzvM0rt",
    "outputId": "e7b447aa-c2bb-44dd-f1dd-0e764dd28acb"
   },
   "outputs": [
    {
     "data": {
      "text/html": [
       "<div>\n",
       "<style scoped>\n",
       "    .dataframe tbody tr th:only-of-type {\n",
       "        vertical-align: middle;\n",
       "    }\n",
       "\n",
       "    .dataframe tbody tr th {\n",
       "        vertical-align: top;\n",
       "    }\n",
       "\n",
       "    .dataframe thead th {\n",
       "        text-align: right;\n",
       "    }\n",
       "</style>\n",
       "<table border=\"1\" class=\"dataframe\">\n",
       "  <thead>\n",
       "    <tr style=\"text-align: right;\">\n",
       "      <th></th>\n",
       "      <th>fym_applied</th>\n",
       "      <th>spring1_n_kg/ha</th>\n",
       "      <th>spring2_n_kg/ha</th>\n",
       "      <th>total_fertilizer_n_amount</th>\n",
       "      <th>p_amount</th>\n",
       "      <th>k_amount</th>\n",
       "      <th>na_amount</th>\n",
       "      <th>mg_amount</th>\n",
       "      <th>dry_matter_%</th>\n",
       "      <th>yield_100%dm</th>\n",
       "    </tr>\n",
       "  </thead>\n",
       "  <tbody>\n",
       "    <tr>\n",
       "      <th>count</th>\n",
       "      <td>399.000000</td>\n",
       "      <td>399.000000</td>\n",
       "      <td>399.000000</td>\n",
       "      <td>399.000000</td>\n",
       "      <td>399.000000</td>\n",
       "      <td>399.000000</td>\n",
       "      <td>399.000000</td>\n",
       "      <td>399.000000</td>\n",
       "      <td>399.000000</td>\n",
       "      <td>399.000000</td>\n",
       "    </tr>\n",
       "    <tr>\n",
       "      <th>mean</th>\n",
       "      <td>4.035088</td>\n",
       "      <td>125.112782</td>\n",
       "      <td>20.451128</td>\n",
       "      <td>147.007519</td>\n",
       "      <td>12.017544</td>\n",
       "      <td>62.030075</td>\n",
       "      <td>0.551378</td>\n",
       "      <td>7.338346</td>\n",
       "      <td>26.396742</td>\n",
       "      <td>9.021554</td>\n",
       "    </tr>\n",
       "    <tr>\n",
       "      <th>std</th>\n",
       "      <td>11.191965</td>\n",
       "      <td>81.848032</td>\n",
       "      <td>50.329537</td>\n",
       "      <td>88.580642</td>\n",
       "      <td>16.453901</td>\n",
       "      <td>52.117369</td>\n",
       "      <td>5.486094</td>\n",
       "      <td>8.218028</td>\n",
       "      <td>5.007880</td>\n",
       "      <td>4.489121</td>\n",
       "    </tr>\n",
       "    <tr>\n",
       "      <th>min</th>\n",
       "      <td>0.000000</td>\n",
       "      <td>0.000000</td>\n",
       "      <td>0.000000</td>\n",
       "      <td>0.000000</td>\n",
       "      <td>0.000000</td>\n",
       "      <td>0.000000</td>\n",
       "      <td>0.000000</td>\n",
       "      <td>0.000000</td>\n",
       "      <td>16.800000</td>\n",
       "      <td>0.580000</td>\n",
       "    </tr>\n",
       "    <tr>\n",
       "      <th>25%</th>\n",
       "      <td>0.000000</td>\n",
       "      <td>96.000000</td>\n",
       "      <td>0.000000</td>\n",
       "      <td>96.000000</td>\n",
       "      <td>0.000000</td>\n",
       "      <td>0.000000</td>\n",
       "      <td>0.000000</td>\n",
       "      <td>0.000000</td>\n",
       "      <td>23.100000</td>\n",
       "      <td>5.635000</td>\n",
       "    </tr>\n",
       "    <tr>\n",
       "      <th>50%</th>\n",
       "      <td>0.000000</td>\n",
       "      <td>96.000000</td>\n",
       "      <td>0.000000</td>\n",
       "      <td>192.000000</td>\n",
       "      <td>0.000000</td>\n",
       "      <td>90.000000</td>\n",
       "      <td>0.000000</td>\n",
       "      <td>12.000000</td>\n",
       "      <td>26.100000</td>\n",
       "      <td>8.890000</td>\n",
       "    </tr>\n",
       "    <tr>\n",
       "      <th>75%</th>\n",
       "      <td>0.000000</td>\n",
       "      <td>192.000000</td>\n",
       "      <td>0.000000</td>\n",
       "      <td>192.000000</td>\n",
       "      <td>35.000000</td>\n",
       "      <td>90.000000</td>\n",
       "      <td>0.000000</td>\n",
       "      <td>12.000000</td>\n",
       "      <td>28.900000</td>\n",
       "      <td>12.010000</td>\n",
       "    </tr>\n",
       "    <tr>\n",
       "      <th>max</th>\n",
       "      <td>35.000000</td>\n",
       "      <td>288.000000</td>\n",
       "      <td>192.000000</td>\n",
       "      <td>288.000000</td>\n",
       "      <td>35.000000</td>\n",
       "      <td>630.000000</td>\n",
       "      <td>55.000000</td>\n",
       "      <td>84.000000</td>\n",
       "      <td>41.300000</td>\n",
       "      <td>23.130000</td>\n",
       "    </tr>\n",
       "  </tbody>\n",
       "</table>\n",
       "</div>"
      ],
      "text/plain": [
       "       fym_applied  spring1_n_kg/ha  spring2_n_kg/ha  \\\n",
       "count   399.000000       399.000000       399.000000   \n",
       "mean      4.035088       125.112782        20.451128   \n",
       "std      11.191965        81.848032        50.329537   \n",
       "min       0.000000         0.000000         0.000000   \n",
       "25%       0.000000        96.000000         0.000000   \n",
       "50%       0.000000        96.000000         0.000000   \n",
       "75%       0.000000       192.000000         0.000000   \n",
       "max      35.000000       288.000000       192.000000   \n",
       "\n",
       "       total_fertilizer_n_amount    p_amount    k_amount   na_amount  \\\n",
       "count                 399.000000  399.000000  399.000000  399.000000   \n",
       "mean                  147.007519   12.017544   62.030075    0.551378   \n",
       "std                    88.580642   16.453901   52.117369    5.486094   \n",
       "min                     0.000000    0.000000    0.000000    0.000000   \n",
       "25%                    96.000000    0.000000    0.000000    0.000000   \n",
       "50%                   192.000000    0.000000   90.000000    0.000000   \n",
       "75%                   192.000000   35.000000   90.000000    0.000000   \n",
       "max                   288.000000   35.000000  630.000000   55.000000   \n",
       "\n",
       "        mg_amount  dry_matter_%  yield_100%dm  \n",
       "count  399.000000    399.000000    399.000000  \n",
       "mean     7.338346     26.396742      9.021554  \n",
       "std      8.218028      5.007880      4.489121  \n",
       "min      0.000000     16.800000      0.580000  \n",
       "25%      0.000000     23.100000      5.635000  \n",
       "50%     12.000000     26.100000      8.890000  \n",
       "75%     12.000000     28.900000     12.010000  \n",
       "max     84.000000     41.300000     23.130000  "
      ]
     },
     "execution_count": 11,
     "metadata": {},
     "output_type": "execute_result"
    }
   ],
   "source": [
    "yield_data[numeric_cols].describe()"
   ]
  },
  {
   "cell_type": "markdown",
   "metadata": {
    "id": "p0Qtno-NOzCm"
   },
   "source": [
    "The summary statistics reveal that most plots did not receive farmyard manure FYM, phosphorus P, sodium Na, or magnesium Mg, as their median values are all zero. Potassium K was more commonly applied, with many plots receiving 90 kilograms per hectare. Nitrogen N, particularly in the first spring application, was applied more frequently and in varying amounts, ranging from 0 to 288 kilograms per hectare. The total nitrogen applied also varied greatly, indicating different treatment levels. The dry matter percentage ranged from about 17 to 41 percent, showing noticeable differences in crop quality. Yield adjusted to 100 percent dry matter varied significantly across plots from as low as 0.58 to over 23 tons per hectare, highlighting the strong influence of fertilizer treatments on crop productivity."
   ]
  },
  {
   "cell_type": "markdown",
   "metadata": {
    "id": "2olXhR4QQc4u"
   },
   "source": [
    "### Correlation Analysis\n",
    "\n",
    "In this part we will check if there is any existing linear relationship between the variable pairs in the data via correlation heatmap. The correlation heatmap will be plotted for the numeric variables to identify if the data has any redundancy or not."
   ]
  },
  {
   "cell_type": "code",
   "execution_count": 12,
   "metadata": {
    "colab": {
     "base_uri": "https://localhost:8080/",
     "height": 622
    },
    "id": "SfXIF_52NBIv",
    "outputId": "da2905fb-6650-4f85-819e-537749d6c5a5"
   },
   "outputs": [
    {
     "data": {
      "image/png": "[encoded data removed]",
      "text/plain": [
       "<Figure size 1200x800 with 2 Axes>"
      ]
     },
     "metadata": {},
     "output_type": "display_data"
    }
   ],
   "source": [
    "# Correlation heatmap\n",
    "plt.figure(figsize=(12, 8))\n",
    "sns.heatmap(yield_data[numeric_cols].corr(), annot=True, cmap='coolwarm')\n",
    "plt.title(\"Correlation Heatmap\")\n",
    "plt.tight_layout()\n",
    "plt.show()\n"
   ]
  },
  {
   "cell_type": "markdown",
   "metadata": {
    "id": "z_GulvnuSrtR"
   },
   "source": [
    "## Correlation Heatmap Interpretation\n",
    "\n",
    "### Key Insights\n",
    "\n",
    "- **Strong Positive Correlations:**\n",
    "  - `spring1_n_kg/ha` and `total_fertilizer_n_amount` (r = 0.82): Likely redundant, as total nitrogen includes spring1 input.\n",
    "  - `k_amount` and `mg_amount` (r = 0.68): May reflect similar sources or co-application.\n",
    "\n",
    "- **Moderate Correlations with Yield:**\n",
    "  - `fym_applied` and `yield_100%dm` (r = 0.38)\n",
    "  - `total_fertilizer_n_amount` and `yield_100%dm` (r = 0.28)\n",
    "  - `spring1_n_kg/ha` and `yield_100%dm` (r = 0.26)\n",
    "  - `dry_matter_%` and `yield_100%dm` (r = 0.48)\n",
    "\n",
    "- **Low or No Correlation:**\n",
    "  - `spring2_n_kg/ha`, `na_amount`, and `mg_amount` show little to no correlation with yield or other variables.\n",
    "\n",
    "### Possible Redundancies\n",
    "\n",
    "- `spring1_n_kg/ha` and `total_fertilizer_n_amount`: High correlation suggests one may be dropped to reduce multicollinearity.\n",
    "- `k_amount` and `mg_amount`: Strong correlation indicates potential redundancy.\n"
   ]
  },
  {
   "cell_type": "markdown",
   "metadata": {
    "id": "4lrwAc6OTEIV"
   },
   "source": [
    "### Boxplot of yield by fertilizer code"
   ]
  },
  {
   "cell_type": "code",
   "execution_count": 13,
   "metadata": {
    "colab": {
     "base_uri": "https://localhost:8080/",
     "height": 379
    },
    "id": "P-2tjQ-yQ-zq",
    "outputId": "6f3bc93c-2d11-4271-ae07-8b6ac50212ad"
   },
   "outputs": [
    {
     "data": {
      "image/png": "[encoded data removed]",
      "text/plain": [
       "<Figure size 1400x600 with 1 Axes>"
      ]
     },
     "metadata": {},
     "output_type": "display_data"
    }
   ],
   "source": [
    "plt.figure(figsize=(14, 6))\n",
    "sns.boxplot(x='fertilizer_code', y='yield_100%dm', data=yield_data)\n",
    "plt.xticks(rotation=90)\n",
    "plt.title(\"Yield by Fertilizer Code\")\n",
    "plt.tight_layout()\n",
    "plt.show()"
   ]
  },
  {
   "cell_type": "markdown",
   "metadata": {
    "id": "mQ99FAwCTY04"
   },
   "source": [
    "The box plot shows variation in yield across different fertilizer codes. Some combinations like `FYM N4 PK` and `N1+3+1(P)KMg` are associated with higher median yields and wider interquartile ranges, suggesting they are more effective but also more variable. In contrast, treatments like `(P)KMg` and `N4(P)KMg` show lower median yields and narrower spread, indicating limited impact on productivity. Outliers are present in several groups, especially those involving FYM and multi-nutrient combinations, highlighting potential variability in response. Overall, the plot suggests that organic and balanced fertilizer treatments tend to support higher yields.\n"
   ]
  },
  {
   "cell_type": "markdown",
   "metadata": {
    "id": "dlF5IwYRT6TD"
   },
   "source": [
    "### Yield trend over harvest years\n",
    "\n",
    "In this part we will plot the time series plot of the yeild over the years using line plot."
   ]
  },
  {
   "cell_type": "code",
   "execution_count": 14,
   "metadata": {
    "colab": {
     "base_uri": "https://localhost:8080/",
     "height": 1000
    },
    "id": "Dk7paDCTTJDP",
    "outputId": "dba052b8-00ff-4c21-eb32-0686195204c5"
   },
   "outputs": [
    {
     "data": {
      "image/png": "[encoded data removed]",
      "text/plain": [
       "<Figure size 1000x500 with 1 Axes>"
      ]
     },
     "metadata": {},
     "output_type": "display_data"
    },
    {
     "name": "stdout",
     "output_type": "stream",
     "text": [
      "\n",
      "Grouped Yield Summary by Fertilizer Code:\n",
      "                  count       mean       std    min    max\n",
      "fertilizer_code                                          \n",
      "(C)                  4   3.547500  1.273823   2.68   5.44\n",
      "(FYM) N4            17  13.021176  4.341788   3.51  23.13\n",
      "(P)KMg              17   3.293529  1.145845   0.97   5.20\n",
      "FYM                 21  12.596190  2.924249   8.41  17.83\n",
      "FYM N2               8  14.005000  4.022576   7.68  17.79\n",
      "FYM N3              13  14.596154  4.149109   6.65  22.26\n",
      "FYM N4 PK            4  16.172500  3.047265  12.80  20.15\n",
      "N0+3 1/2[PKMg]       4  13.245000  2.622626  10.89  15.81\n",
      "N1(P)KMg            17   6.702941  1.635870   3.27   9.88\n",
      "N1+1+1 KMg          17   5.502353  1.623447   2.56   7.90\n",
      "N1+2+1 PKMg         17  10.034706  3.081445   5.88  16.89\n",
      "N1+3 1/2[PKMg]       4  13.477500  2.955857  10.60  16.35\n",
      "N1+3+1(P)K2Mg2       5  11.322000  3.923273   6.80  16.17\n",
      "N1+3+1(P)KMg        12   9.845833  2.922696   5.74  14.64\n",
      "N1+4+1 PKMg         17   9.098824  2.999954   3.46  14.61\n",
      "N1PKMg               4   8.267500  2.953623   5.65  11.85\n",
      "N2                   4   6.152500  1.647754   3.99   7.63\n",
      "N2(P)KMg            17   9.238235  2.280149   4.48  13.17\n",
      "N2P                  4   5.850000  1.448286   3.86   7.25\n",
      "N2PK                 4  11.205000  2.920713   9.27  15.52\n",
      "N2PKMg               4  12.390000  2.313655   9.55  14.86\n",
      "N2PKMg*              4  10.950000  2.866857   8.22  14.97\n",
      "N2PNa*               4   7.297500  1.201371   6.27   8.73\n",
      "N3(P)KMg            17   9.915294  2.876324   5.27  15.13\n",
      "N3PKMg               4  14.015000  3.517087  10.78  18.62\n",
      "N4                  17   2.509412  1.383616   0.67   5.33\n",
      "N4(P)KMg            17   9.828824  2.979184   4.52  16.12\n",
      "N4PK                17  10.314706  2.733274   6.77  15.00\n",
      "N4PK*(Mg*)          17  10.845882  2.993098   7.01  17.68\n",
      "N4PKMg               4  14.847500  3.472851  10.77  18.50\n",
      "N4PMg               17   5.550000  2.260653   3.10  11.51\n",
      "N5(P)KMg            17   9.956471  2.886436   5.63  14.18\n",
      "N5PKMg               4  13.735000  2.725491  11.02  16.30\n",
      "N6(P)KMg            17   9.890000  3.061103   4.33  15.01\n",
      "N6PKMg               4  14.470000  3.150270  11.13  18.72\n",
      "PKMg                 4   3.357500  1.399580   1.94   4.80\n"
     ]
    }
   ],
   "source": [
    "plt.figure(figsize=(10, 5))\n",
    "sns.lineplot(x='harvest_year', y='yield_100%dm', data=yield_data, marker='o')\n",
    "plt.title(\"Yield over Harvest Years\")\n",
    "plt.tight_layout()\n",
    "plt.show()\n",
    "\n",
    "# Grouped summary by fertilizer treatment\n",
    "group_summary = yield_data.groupby(\"fertilizer_code\")[\"yield_100%dm\"].agg([\"count\", \"mean\", \"std\", \"min\", \"max\"])\n",
    "print(\"\\nGrouped Yield Summary by Fertilizer Code:\\n\", group_summary)"
   ]
  },
  {
   "cell_type": "markdown",
   "metadata": {
    "id": "kj46c7YDXW40"
   },
   "source": [
    "The yield trend shows noticeable fluctuations from 1997 to 2017, with no clear long-term upward or downward pattern. There are periods of recovery (e.g., 2004–2005, 2014–2016) following dips in yield. The shaded region indicates variability, which remains relatively wide across most years, reflecting the influence of environmental or management factors.\n",
    "\n",
    "\n",
    "Fertilizer combinations including FYM (Farmyard Manure) and higher nitrogen levels such as `FYM N3`, `FYM N2`, `FYM N4 PK`, and `N4PKMg` are associated with the highest average yields (above 14 t/ha). On the other hand, control treatments like `(C)`, `FYM`, or chemical-only treatments such as `PKMg` and `N4` produce notably lower yields. This supports the effectiveness of integrated nutrient management involving organic inputs and balanced fertilization in boosting productivity."
   ]
  },
  {
   "cell_type": "markdown",
   "metadata": {
    "id": "oIdbjBn8Xfxe"
   },
   "source": [
    "# Preprocessing\n",
    "\n",
    "In this part we will preprocess the data based on the findings from the initial EDA and visualization findings."
   ]
  },
  {
   "cell_type": "markdown",
   "metadata": {
    "id": "6E81QXr6c4G8"
   },
   "source": [
    "### Handling Missing Values\n",
    "\n",
    "From preprocessing we found that columns have missing values. Thus we handle the missing values using various technqiues. For those coloumns having more than 80 percent of the values missing we will drop it and for rest we will do the imputations."
   ]
  },
  {
   "cell_type": "code",
   "execution_count": 15,
   "metadata": {
    "id": "IDuEIlLgTQsI"
   },
   "outputs": [],
   "source": [
    "drop_threshold = 0.80 * len(yield_data)\n",
    "yield_data = yield_data.dropna(axis=1, thresh = int(yield_data.shape[0] - drop_threshold))"
   ]
  },
  {
   "cell_type": "code",
   "execution_count": 16,
   "metadata": {
    "colab": {
     "base_uri": "https://localhost:8080/"
    },
    "id": "c9TQVahRbvP6",
    "outputId": "3a36fca3-3773-4d06-b47a-b9f50334b464"
   },
   "outputs": [
    {
     "data": {
      "text/plain": [
       "(399, 32)"
      ]
     },
     "execution_count": 16,
     "metadata": {},
     "output_type": "execute_result"
    }
   ],
   "source": [
    "yield_data.shape"
   ]
  },
  {
   "cell_type": "markdown",
   "metadata": {
    "id": "uqdnVZLDdJRo"
   },
   "source": [
    "Around 5 columns had more than 80 percent of the dataset missing. So just removing them reduced the dimension of the data to 32 columns.\n",
    "\n",
    "After removal of those columns, the nan value counts inforamtion is provided below:"
   ]
  },
  {
   "cell_type": "code",
   "execution_count": 17,
   "metadata": {
    "colab": {
     "base_uri": "https://localhost:8080/",
     "height": 1000
    },
    "id": "7kdIQkltcQKG",
    "outputId": "59156a9c-402b-4b76-97e7-63a7c5c31f7b"
   },
   "outputs": [
    {
     "data": {
      "text/plain": [
       "harvest_year                   0\n",
       "strip                          0\n",
       "section                        0\n",
       "plot                           0\n",
       "section_1926-67                0\n",
       "fertilizer_code               21\n",
       "crop                           0\n",
       "previous_crop                  0\n",
       "fym_applied                    0\n",
       "n_factor_level                67\n",
       "n_timing                      67\n",
       "spring1_n_kg/ha                0\n",
       "spring1_n_date                67\n",
       "spring2_n_kg/ha                0\n",
       "total_fertilizer_n_amount      0\n",
       "p_factor_level               122\n",
       "p_amount                       0\n",
       "p_date                       258\n",
       "k_factor_level               130\n",
       "k_amount                       0\n",
       "k_date                       130\n",
       "na_factor_level              189\n",
       "na_amount                      0\n",
       "mg_factor_level              138\n",
       "mg_amount                      0\n",
       "mg_date                      182\n",
       "sow_date                       0\n",
       "harvest_date                   0\n",
       "cultivar                       0\n",
       "dry_matter_%                   0\n",
       "yield_100%dm                   0\n",
       "note                         260\n",
       "dtype: int64"
      ]
     },
     "execution_count": 17,
     "metadata": {},
     "output_type": "execute_result"
    }
   ],
   "source": [
    "yield_data.isna().sum()"
   ]
  },
  {
   "cell_type": "code",
   "execution_count": 18,
   "metadata": {},
   "outputs": [
    {
     "data": {
      "text/plain": [
       "array([nan, 'Mg', 'Mg*', '1/2 Mg', 'Mg2', '(Mg*)'], dtype=object)"
      ]
     },
     "execution_count": 18,
     "metadata": {},
     "output_type": "execute_result"
    }
   ],
   "source": [
    "yield_data['mg_factor_level'].unique()"
   ]
  },
  {
   "cell_type": "markdown",
   "metadata": {
    "id": "ubLOq8odgHIr"
   },
   "source": [
    "Now based on the number of nan value counts we will implement different imutation techqniues suitable and handle the remainign columns with nan or missing values."
   ]
  },
  {
   "cell_type": "code",
   "execution_count": 19,
   "metadata": {
    "id": "7QcdLe_BeZLu"
   },
   "outputs": [],
   "source": [
    "# Mode for categorical variables with low missingness\n",
    "for col in ['fertilizer_code', 'n_factor_level', 'n_timing', 'spring1_n_date', 'p_factor_level', \n",
    "            'k_factor_level', 'na_factor_level', 'mg_factor_level']:\n",
    "    yield_data[col] = yield_data[col].fillna(yield_data[col].mode()[0])\n",
    "\n",
    "\n",
    "# Impute high-missing categorical date fields with \"Unknown\" or placeholder date\n",
    "for col in ['p_date', 'k_date', 'mg_date']:\n",
    "    yield_data[col] = yield_data[col].fillna(\"Unknown\")\n",
    "\n",
    "# Impute numeric fields (though none seem missing here, just in case)\n",
    "# Example: use median or mean if needed\n",
    "for col in ['p_amount', 'k_amount', 'na_amount', 'mg_amount']:\n",
    "    if yield_data[col].isna().sum() > 0:\n",
    "        yield_data[col] = yield_data[col].fillna(yield_data[col].median())\n",
    "\n",
    "# 'note' column: probably text notes — fill with empty string or drop\n",
    "yield_data['note'] = yield_data['note'].fillna(\"\")"
   ]
  },
  {
   "cell_type": "code",
   "execution_count": 20,
   "metadata": {},
   "outputs": [
    {
     "data": {
      "text/plain": [
       "harvest_year                 0\n",
       "strip                        0\n",
       "section                      0\n",
       "plot                         0\n",
       "section_1926-67              0\n",
       "fertilizer_code              0\n",
       "crop                         0\n",
       "previous_crop                0\n",
       "fym_applied                  0\n",
       "n_factor_level               0\n",
       "n_timing                     0\n",
       "spring1_n_kg/ha              0\n",
       "spring1_n_date               0\n",
       "spring2_n_kg/ha              0\n",
       "total_fertilizer_n_amount    0\n",
       "p_factor_level               0\n",
       "p_amount                     0\n",
       "p_date                       0\n",
       "k_factor_level               0\n",
       "k_amount                     0\n",
       "k_date                       0\n",
       "na_factor_level              0\n",
       "na_amount                    0\n",
       "mg_factor_level              0\n",
       "mg_amount                    0\n",
       "mg_date                      0\n",
       "sow_date                     0\n",
       "harvest_date                 0\n",
       "cultivar                     0\n",
       "dry_matter_%                 0\n",
       "yield_100%dm                 0\n",
       "note                         0\n",
       "dtype: int64"
      ]
     },
     "execution_count": 20,
     "metadata": {},
     "output_type": "execute_result"
    }
   ],
   "source": [
    "yield_data.isna().sum()"
   ]
  },
  {
   "cell_type": "markdown",
   "metadata": {
    "id": "Jmt3n-PSgo2j"
   },
   "source": [
    "The missing values are handled now."
   ]
  },
  {
   "cell_type": "markdown",
   "metadata": {
    "id": "oZcahkovgs1G"
   },
   "source": [
    "## Dimensionality Reduction\n",
    "\n",
    "From the correlation anaysis we found some of the feature share high correlation and is redundant. So we will remove those columns now."
   ]
  },
  {
   "cell_type": "code",
   "execution_count": 21,
   "metadata": {
    "id": "3mOaxaJKfH2S"
   },
   "outputs": [],
   "source": [
    "# 'spring1_n_kg/ha' and 'total_fertilizer_n_amount' are highly correlated (0.82)\n",
    "# Drop one of them to reduce multicollinearity\n",
    "yield_data = yield_data.drop(columns=['spring1_n_kg/ha'])"
   ]
  },
  {
   "cell_type": "markdown",
   "metadata": {},
   "source": [
    "### Step 1: Drop identifiers and non-predictive columns\n",
    "\n",
    "We drop columns that are primarily used for experimental tracking but are not useful as features for modeling yield.\n",
    "\n",
    "- `strip`, `section`, `plot`, `section_1926-67`: Plot and section identifiers.\n",
    "- `note`: Annotation column with miscellaneous notes."
   ]
  },
  {
   "cell_type": "code",
   "execution_count": 22,
   "metadata": {},
   "outputs": [],
   "source": [
    "cols_step1 = ['strip', 'section', 'plot', 'section_1926-67', 'note']\n",
    "yield_data = yield_data.drop(columns=cols_step1, errors='ignore')"
   ]
  },
  {
   "cell_type": "markdown",
   "metadata": {},
   "source": [
    "### Step 2: Drop fertilizer and nutrient application date columns\n",
    "\n",
    "We retain the key temporal columns `sow_date` and `harvest_date` for time series context but remove other application date columns because:\n",
    "\n",
    "- They often have missing or unknown values.\n",
    "- Their information might be redundant if nutrient amounts are already provided.\n",
    "- To simplify the model unless nutrient timing is explicitly modeled.\n",
    "\n",
    "Columns dropped:  \n",
    "`fym_date`, `spring1_n_date`, `spring2_n_date`, `p_date`, `k_date`, `na_date`, `mg_date`\n"
   ]
  },
  {
   "cell_type": "code",
   "execution_count": 23,
   "metadata": {},
   "outputs": [],
   "source": [
    "cols_step2 = ['fym_date', 'spring1_n_date', 'spring2_n_date', 'p_date', 'k_date', 'na_date', 'mg_date']\n",
    "yield_data = yield_data.drop(columns=cols_step2, errors='ignore')\n"
   ]
  },
  {
   "cell_type": "markdown",
   "metadata": {},
   "source": [
    "### Step 3: Drop factor level columns related to fertilizers and nutrients\n",
    "\n",
    "We remove categorical factor level columns because:\n",
    "\n",
    "- Numeric amount columns provide more precise quantitative data.\n",
    "- Factor levels would require encoding and might introduce noise.\n",
    "- Simplifies the dataset and focuses on direct numerical predictors.\n",
    "\n",
    "Columns dropped:  \n",
    "`fym_factor_level`, `n_factor_level`, `p_factor_level`, `k_factor_level`, `na_factor_level`, `mg_factor_level`\n"
   ]
  },
  {
   "cell_type": "code",
   "execution_count": 24,
   "metadata": {},
   "outputs": [],
   "source": [
    "cols_step3 = ['fym_factor_level', 'n_factor_level', 'p_factor_level', 'k_factor_level', 'na_factor_level', 'mg_factor_level']\n",
    "yield_data = yield_data.drop(columns=cols_step3, errors='ignore')"
   ]
  },
  {
   "cell_type": "markdown",
   "metadata": {},
   "source": [
    "### Step 4: Drop constant columns `crop` and `previous_crop`\n",
    "\n",
    "Since `crop` is always `\"maize\"` and `previous_crop` is always the same (e.g., `\"oats\"`), these columns do not provide any useful information for prediction and can be safely dropped."
   ]
  },
  {
   "cell_type": "code",
   "execution_count": 25,
   "metadata": {},
   "outputs": [],
   "source": [
    "yield_data = yield_data.drop(columns=['crop', 'previous_crop'], errors='ignore')"
   ]
  },
  {
   "cell_type": "code",
   "execution_count": 26,
   "metadata": {
    "scrolled": true
   },
   "outputs": [],
   "source": [
    "# Convert date columns to datetime and create 'days_to_harvest'\n",
    "yield_data['sow_date'] = pd.to_datetime(yield_data['sow_date'])\n",
    "yield_data['harvest_date'] = pd.to_datetime(yield_data['harvest_date'])\n",
    "yield_data['days_to_harvest'] = (yield_data['harvest_date'] - yield_data['sow_date']).dt.days"
   ]
  },
  {
   "cell_type": "code",
   "execution_count": 27,
   "metadata": {},
   "outputs": [],
   "source": [
    "# Drop original date columns\n",
    "yield_data = yield_data.drop(columns=['sow_date', 'harvest_date'])"
   ]
  },
  {
   "cell_type": "markdown",
   "metadata": {},
   "source": [
    "## Regression Analysis"
   ]
  },
  {
   "cell_type": "code",
   "execution_count": 28,
   "metadata": {},
   "outputs": [
    {
     "name": "stdout",
     "output_type": "stream",
     "text": [
      "                            OLS Regression Results                            \n",
      "==============================================================================\n",
      "Dep. Variable:           yield_100%dm   R-squared:                       0.776\n",
      "Model:                            OLS   Adj. R-squared:                  0.750\n",
      "Method:                 Least Squares   F-statistic:                     29.42\n",
      "Date:                Wed, 13 Aug 2025   Prob (F-statistic):           1.42e-91\n",
      "Time:                        13:03:16   Log-Likelihood:                -866.03\n",
      "No. Observations:                 399   AIC:                             1818.\n",
      "Df Residuals:                     356   BIC:                             1990.\n",
      "Df Model:                          42                                         \n",
      "Covariance Type:            nonrobust                                         \n",
      "==================================================================================================\n",
      "                                     coef    std err          t      P>|t|      [0.025      0.975]\n",
      "--------------------------------------------------------------------------------------------------\n",
      "const                            346.1116     44.040      7.859      0.000     259.500     432.723\n",
      "harvest_year                      -0.2828      0.036     -7.964      0.000      -0.353      -0.213\n",
      "fym_applied                        0.2684      0.020     13.250      0.000       0.229       0.308\n",
      "spring2_n_kg/ha                    1.4027      0.180      7.800      0.000       1.049       1.756\n",
      "total_fertilizer_n_amount          0.0707      0.008      9.424      0.000       0.056       0.086\n",
      "p_amount                          -0.0806      0.024     -3.394      0.001      -0.127      -0.034\n",
      "k_amount                          -0.0053      0.007     -0.756      0.450      -0.019       0.008\n",
      "na_amount                         -0.0112      0.022     -0.500      0.618      -0.055       0.033\n",
      "mg_amount                         -0.0235      0.032     -0.740      0.460      -0.086       0.039\n",
      "dry_matter_%                       0.1731      0.025      6.808      0.000       0.123       0.223\n",
      "days_to_harvest                    0.0760      0.011      7.127      0.000       0.055       0.097\n",
      "fertilizer_code_(FYM) N4          -1.9669      0.919     -2.140      0.033      -3.774      -0.159\n",
      "fertilizer_code_(P)KMg             3.2688      1.389      2.353      0.019       0.537       6.001\n",
      "fertilizer_code_FYM                1.0952      1.253      0.874      0.383      -1.370       3.560\n",
      "fertilizer_code_FYM N2            -5.0036      1.282     -3.903      0.000      -7.525      -2.482\n",
      "fertilizer_code_FYM N3            -6.3862      1.068     -5.979      0.000      -8.487      -4.286\n",
      "fertilizer_code_FYM N4 PK         -7.7743      1.340     -5.800      0.000     -10.410      -5.138\n",
      "fertilizer_code_N0+3 1/2[PKMg]     0.9091      1.196      0.760      0.448      -1.442       3.260\n",
      "fertilizer_code_N1(P)KMg           2.8752      1.129      2.546      0.011       0.654       5.096\n",
      "fertilizer_code_N1+1+1 KMg       136.0135     17.456      7.792      0.000     101.683     170.344\n",
      "fertilizer_code_N1+2+1 PKMg       72.2870      9.259      7.807      0.000      54.078      90.496\n",
      "fertilizer_code_N1+3 1/2[PKMg]     0.9858      1.195      0.825      0.410      -1.364       3.336\n",
      "fertilizer_code_N1+3+1(P)K2Mg2     1.1087      1.242      0.893      0.373      -1.334       3.552\n",
      "fertilizer_code_N1+3+1(P)KMg      -1.3789      0.681     -2.025      0.044      -2.718      -0.039\n",
      "fertilizer_code_N1+4+1 PKMg      -69.9370      8.543     -8.187      0.000     -86.738     -53.136\n",
      "fertilizer_code_N1PKMg             4.3381      1.285      3.377      0.001       1.811       6.865\n",
      "fertilizer_code_N2                -4.2340      1.378     -3.073      0.002      -6.944      -1.524\n",
      "fertilizer_code_N2(P)KMg           1.9415      0.928      2.092      0.037       0.116       3.767\n",
      "fertilizer_code_N2P               -1.8496      1.165     -1.587      0.113      -4.141       0.442\n",
      "fertilizer_code_N2PK               3.5780      1.174      3.048      0.002       1.270       5.886\n",
      "fertilizer_code_N2PKMg             4.8745      1.144      4.263      0.000       2.626       7.123\n",
      "fertilizer_code_N2PKMg*            3.9724      1.332      2.982      0.003       1.353       6.592\n",
      "fertilizer_code_N2PNa*            -0.0002      0.000     -0.500      0.618      -0.001       0.001\n",
      "fertilizer_code_N3(P)KMg          -0.5959      0.836     -0.713      0.476      -2.240       1.048\n",
      "fertilizer_code_N3PKMg             3.1297      1.091      2.868      0.004       0.984       5.276\n",
      "fertilizer_code_N4               -11.3198      0.945    -11.974      0.000     -13.179      -9.461\n",
      "fertilizer_code_N4(P)KMg          -3.9966      0.891     -4.485      0.000      -5.749      -2.244\n",
      "fertilizer_code_N4PK              -1.0197      0.671     -1.520      0.129      -2.339       0.300\n",
      "fertilizer_code_N4PK*(Mg*)        -0.7289      0.670     -1.089      0.277      -2.046       0.588\n",
      "fertilizer_code_N4PKMg             0.5839      1.144      0.511      0.610      -1.665       2.833\n",
      "fertilizer_code_N4PMg             -5.7828      0.904     -6.396      0.000      -7.561      -4.005\n",
      "fertilizer_code_N5(P)KMg          -7.1985      1.070     -6.728      0.000      -9.302      -5.094\n",
      "fertilizer_code_N5PKMg            -3.6387      1.290     -2.820      0.005      -6.176      -1.101\n",
      "fertilizer_code_N6(P)KMg         -10.6505      1.322     -8.056      0.000     -13.250      -8.051\n",
      "fertilizer_code_N6PKMg            -6.3340      1.501     -4.221      0.000      -9.285      -3.383\n",
      "fertilizer_code_PKMg               3.3518      1.487      2.253      0.025       0.427       6.277\n",
      "n_timing_mid_spring              208.0182     26.491      7.852      0.000     155.920     260.116\n",
      "cultivar_Severus                   1.3279      0.437      3.037      0.003       0.468       2.188\n",
      "==============================================================================\n",
      "Omnibus:                       13.681   Durbin-Watson:                   0.738\n",
      "Prob(Omnibus):                  0.001   Jarque-Bera (JB):               27.894\n",
      "Skew:                          -0.104   Prob(JB):                     8.77e-07\n",
      "Kurtosis:                       4.279   Cond. No.                     8.63e+19\n",
      "==============================================================================\n",
      "\n",
      "Notes:\n",
      "[1] Standard Errors assume that the covariance matrix of the errors is correctly specified.\n",
      "[2] The smallest eigenvalue is 2.18e-31. This might indicate that there are\n",
      "strong multicollinearity problems or that the design matrix is singular.\n"
     ]
    }
   ],
   "source": [
    "\n",
    "# Separate features and target\n",
    "X = yield_data.drop(columns=['yield_100%dm'])\n",
    "y = yield_data['yield_100%dm']\n",
    "\n",
    "categorical_cols = ['fertilizer_code', 'n_timing', 'cultivar']\n",
    "\n",
    "# Initialize OneHotEncoder with drop='first' to avoid dummy trap\n",
    "encoder = OneHotEncoder(drop='first', sparse_output=False)\n",
    "\n",
    "encoded_dfs = []\n",
    "\n",
    "for col in categorical_cols:\n",
    "    col_reshaped = X[[col]]  # DataFrame slice\n",
    "    encoded_array = encoder.fit_transform(col_reshaped)\n",
    "    encoded_col_names = encoder.get_feature_names_out([col])\n",
    "    encoded_df = pd.DataFrame(encoded_array, columns=encoded_col_names, index=X.index)\n",
    "    encoded_dfs.append(encoded_df)\n",
    "\n",
    "# Concatenate all encoded categorical columns\n",
    "X_cat_df = pd.concat(encoded_dfs, axis=1)\n",
    "\n",
    "# Drop original categorical columns and concatenate encoded ones\n",
    "X_numeric = X.drop(columns=categorical_cols)\n",
    "X_final = pd.concat([X_numeric, X_cat_df], axis=1)\n",
    "\n",
    "# Add constant for intercept\n",
    "X_final = sm.add_constant(X_final)\n",
    "\n",
    "# Fit OLS model\n",
    "model = sm.OLS(y, X_final)\n",
    "results = model.fit()\n",
    "\n",
    "print(results.summary())\n"
   ]
  },
  {
   "cell_type": "markdown",
   "metadata": {},
   "source": [
    "## Easy-to-Understand Summary of Results  \n",
    "\n",
    "We looked at how different factors (like fertilizer type, timing, and crop properties) affect the outcome (for example, yield). The results below focus on factors that are **statistically significant** — meaning we can be quite confident they have a real effect, not just random chance.  \n",
    "\n",
    "### Key Findings  \n",
    "\n",
    "- **Year of harvest** – Each newer year is linked with a tiny drop in yield.  \n",
    "- **FYM applied** – Using farmyard manure slightly increases yield.  \n",
    "- **Extra nitrogen in spring** – Adding more nitrogen in spring boosts yield noticeably.  \n",
    "- **Total nitrogen applied** – More total nitrogen overall also increases yield, but by a smaller amount.  \n",
    "- **Phosphorus amount** – More phosphorus actually reduces yield a bit.  \n",
    "- **Dry matter (%)** – Higher dry matter content in the crop is linked to higher yield.  \n",
    "- **Days to harvest** – Crops that take longer to harvest tend to have higher yield.  \n",
    "\n",
    "### Fertilizer Combinations  \n",
    "\n",
    "- Some **fertilizer codes** are linked with much higher yields — for example:  \n",
    "  - **N1+1+1 KMg**: Very large increase.  \n",
    "  - **N1+2+1 PKMg**: Large increase.  \n",
    "  - **N timing mid-spring**: Very large boost.  \n",
    "- Some fertilizer mixes **reduce yields sharply** — for example:  \n",
    "  - **N4**, **N6(P)KMg**, **N5(P)KMg**: Big drops in yield.  \n",
    "  - **FYM N3**, **FYM N4 PK**, **N4PMg**: Noticeable reductions.  \n",
    "- Others give moderate boosts — such as **PKMg**, **N2PKMg**, and **N1(P)KMg**.  \n",
    "\n",
    "### Crop Variety  \n",
    "\n",
    "- **Cultivar Severus** tends to produce a bit more yield than the baseline variety.  \n",
    "\n",
    "---\n",
    "\n",
    "**What This Means in Practice:**  \n",
    "- Applying the right nitrogen at the right time (especially mid-spring) and using certain fertilizer combinations can massively improve yield.  \n",
    "- Too much of some nutrients (like phosphorus) or certain mixes can actually lower yield.  \n",
    "- Choosing the right crop variety and adjusting the timing and mix of fertilizers is key for better results.  \n"
   ]
  },
  {
   "cell_type": "code",
   "execution_count": 29,
   "metadata": {},
   "outputs": [
    {
     "name": "stdout",
     "output_type": "stream",
     "text": [
      "Random Forest Regression Results:\n",
      "Mean Squared Error: 3.86\n",
      "R-squared: 0.82\n"
     ]
    }
   ],
   "source": [
    "# Drop the constant column since RF doesn't need it\n",
    "X_rf = X_final.drop(columns=['const'])\n",
    "\n",
    "# Split into train and test sets\n",
    "X_train, X_test, y_train, y_test = train_test_split(\n",
    "    X_rf, y, test_size=0.2, random_state=42\n",
    ")\n",
    "\n",
    "# Initialize Random Forest regressor\n",
    "rf = RandomForestRegressor(n_estimators=100, random_state=42)\n",
    "\n",
    "# Fit model\n",
    "rf.fit(X_train, y_train)\n",
    "\n",
    "# Predict on test set\n",
    "y_pred = rf.predict(X_test)\n",
    "\n",
    "# Evaluate\n",
    "mse = mean_squared_error(y_test, y_pred)\n",
    "r2 = r2_score(y_test, y_pred)\n",
    "\n",
    "print(f\"Random Forest Regression Results:\")\n",
    "print(f\"Mean Squared Error: {mse:.2f}\")\n",
    "print(f\"R-squared: {r2:.2f}\")"
   ]
  },
  {
   "cell_type": "code",
   "execution_count": 30,
   "metadata": {},
   "outputs": [
    {
     "data": {
      "image/png": "[encoded data removed]",
      "text/plain": [
       "<Figure size 1000x600 with 1 Axes>"
      ]
     },
     "metadata": {},
     "output_type": "display_data"
    }
   ],
   "source": [
    "# After fitting Random Forest and getting feature importances (same as before)\n",
    "importances = rf.feature_importances_\n",
    "features = X_rf.columns\n",
    "feat_imp_df = pd.DataFrame({\n",
    "    'feature': features,\n",
    "    'importance': importances\n",
    "}).sort_values(by='importance', ascending=False)\n",
    "\n",
    "# Plot top 10 important features\n",
    "top_features = feat_imp_df.head(10)\n",
    "\n",
    "plt.figure(figsize=(10, 6))\n",
    "plt.barh(top_features['feature'][::-1], top_features['importance'][::-1], color='skyblue')\n",
    "plt.xlabel('Feature Importance')\n",
    "plt.title('Top 10 Feature Importances from Random Forest')\n",
    "plt.tight_layout()\n",
    "plt.show()"
   ]
  },
  {
   "cell_type": "code",
   "execution_count": 31,
   "metadata": {},
   "outputs": [
    {
     "data": {
      "text/html": [
       "<div>\n",
       "<style scoped>\n",
       "    .dataframe tbody tr th:only-of-type {\n",
       "        vertical-align: middle;\n",
       "    }\n",
       "\n",
       "    .dataframe tbody tr th {\n",
       "        vertical-align: top;\n",
       "    }\n",
       "\n",
       "    .dataframe thead th {\n",
       "        text-align: right;\n",
       "    }\n",
       "</style>\n",
       "<table border=\"1\" class=\"dataframe\">\n",
       "  <thead>\n",
       "    <tr style=\"text-align: right;\">\n",
       "      <th></th>\n",
       "      <th>harvest_year</th>\n",
       "      <th>fertilizer_code</th>\n",
       "      <th>fym_applied</th>\n",
       "      <th>n_timing</th>\n",
       "      <th>spring2_n_kg/ha</th>\n",
       "      <th>total_fertilizer_n_amount</th>\n",
       "      <th>p_amount</th>\n",
       "      <th>k_amount</th>\n",
       "      <th>na_amount</th>\n",
       "      <th>mg_amount</th>\n",
       "      <th>cultivar</th>\n",
       "      <th>dry_matter_%</th>\n",
       "      <th>yield_100%dm</th>\n",
       "      <th>days_to_harvest</th>\n",
       "    </tr>\n",
       "  </thead>\n",
       "  <tbody>\n",
       "    <tr>\n",
       "      <th>0</th>\n",
       "      <td>1997</td>\n",
       "      <td>FYM N4 PK</td>\n",
       "      <td>35</td>\n",
       "      <td>mid_spring</td>\n",
       "      <td>0</td>\n",
       "      <td>192</td>\n",
       "      <td>35.0</td>\n",
       "      <td>90</td>\n",
       "      <td>0</td>\n",
       "      <td>0</td>\n",
       "      <td>Hudson</td>\n",
       "      <td>36.7</td>\n",
       "      <td>16.36</td>\n",
       "      <td>147</td>\n",
       "    </tr>\n",
       "    <tr>\n",
       "      <th>1</th>\n",
       "      <td>1997</td>\n",
       "      <td>FYM N2</td>\n",
       "      <td>35</td>\n",
       "      <td>mid_spring</td>\n",
       "      <td>0</td>\n",
       "      <td>96</td>\n",
       "      <td>0.0</td>\n",
       "      <td>0</td>\n",
       "      <td>0</td>\n",
       "      <td>0</td>\n",
       "      <td>Hudson</td>\n",
       "      <td>35.8</td>\n",
       "      <td>17.45</td>\n",
       "      <td>147</td>\n",
       "    </tr>\n",
       "    <tr>\n",
       "      <th>2</th>\n",
       "      <td>1997</td>\n",
       "      <td>FYM</td>\n",
       "      <td>35</td>\n",
       "      <td>mid_spring</td>\n",
       "      <td>0</td>\n",
       "      <td>0</td>\n",
       "      <td>0.0</td>\n",
       "      <td>0</td>\n",
       "      <td>0</td>\n",
       "      <td>0</td>\n",
       "      <td>Hudson</td>\n",
       "      <td>37.4</td>\n",
       "      <td>17.53</td>\n",
       "      <td>147</td>\n",
       "    </tr>\n",
       "    <tr>\n",
       "      <th>3</th>\n",
       "      <td>1997</td>\n",
       "      <td>FYM</td>\n",
       "      <td>0</td>\n",
       "      <td>mid_spring</td>\n",
       "      <td>0</td>\n",
       "      <td>0</td>\n",
       "      <td>0.0</td>\n",
       "      <td>0</td>\n",
       "      <td>0</td>\n",
       "      <td>0</td>\n",
       "      <td>Hudson</td>\n",
       "      <td>31.7</td>\n",
       "      <td>3.64</td>\n",
       "      <td>147</td>\n",
       "    </tr>\n",
       "    <tr>\n",
       "      <th>4</th>\n",
       "      <td>1997</td>\n",
       "      <td>PKMg</td>\n",
       "      <td>0</td>\n",
       "      <td>mid_spring</td>\n",
       "      <td>0</td>\n",
       "      <td>0</td>\n",
       "      <td>35.0</td>\n",
       "      <td>90</td>\n",
       "      <td>0</td>\n",
       "      <td>0</td>\n",
       "      <td>Hudson</td>\n",
       "      <td>31.3</td>\n",
       "      <td>4.80</td>\n",
       "      <td>147</td>\n",
       "    </tr>\n",
       "    <tr>\n",
       "      <th>...</th>\n",
       "      <td>...</td>\n",
       "      <td>...</td>\n",
       "      <td>...</td>\n",
       "      <td>...</td>\n",
       "      <td>...</td>\n",
       "      <td>...</td>\n",
       "      <td>...</td>\n",
       "      <td>...</td>\n",
       "      <td>...</td>\n",
       "      <td>...</td>\n",
       "      <td>...</td>\n",
       "      <td>...</td>\n",
       "      <td>...</td>\n",
       "      <td>...</td>\n",
       "    </tr>\n",
       "    <tr>\n",
       "      <th>394</th>\n",
       "      <td>2017</td>\n",
       "      <td>N5(P)KMg</td>\n",
       "      <td>0</td>\n",
       "      <td>mid_spring</td>\n",
       "      <td>0</td>\n",
       "      <td>240</td>\n",
       "      <td>0.0</td>\n",
       "      <td>90</td>\n",
       "      <td>0</td>\n",
       "      <td>12</td>\n",
       "      <td>Severus</td>\n",
       "      <td>24.8</td>\n",
       "      <td>12.89</td>\n",
       "      <td>155</td>\n",
       "    </tr>\n",
       "    <tr>\n",
       "      <th>395</th>\n",
       "      <td>2017</td>\n",
       "      <td>N6(P)KMg</td>\n",
       "      <td>0</td>\n",
       "      <td>mid_spring</td>\n",
       "      <td>0</td>\n",
       "      <td>288</td>\n",
       "      <td>0.0</td>\n",
       "      <td>90</td>\n",
       "      <td>0</td>\n",
       "      <td>12</td>\n",
       "      <td>Severus</td>\n",
       "      <td>24.4</td>\n",
       "      <td>12.91</td>\n",
       "      <td>155</td>\n",
       "    </tr>\n",
       "    <tr>\n",
       "      <th>396</th>\n",
       "      <td>2017</td>\n",
       "      <td>N1+4+1 PKMg</td>\n",
       "      <td>0</td>\n",
       "      <td>mid_&amp;_late_spring</td>\n",
       "      <td>192</td>\n",
       "      <td>288</td>\n",
       "      <td>35.0</td>\n",
       "      <td>90</td>\n",
       "      <td>0</td>\n",
       "      <td>12</td>\n",
       "      <td>Severus</td>\n",
       "      <td>25.1</td>\n",
       "      <td>10.79</td>\n",
       "      <td>155</td>\n",
       "    </tr>\n",
       "    <tr>\n",
       "      <th>397</th>\n",
       "      <td>2017</td>\n",
       "      <td>N1+2+1 PKMg</td>\n",
       "      <td>0</td>\n",
       "      <td>mid_&amp;_late_spring</td>\n",
       "      <td>96</td>\n",
       "      <td>192</td>\n",
       "      <td>35.0</td>\n",
       "      <td>90</td>\n",
       "      <td>0</td>\n",
       "      <td>12</td>\n",
       "      <td>Severus</td>\n",
       "      <td>26.1</td>\n",
       "      <td>12.79</td>\n",
       "      <td>155</td>\n",
       "    </tr>\n",
       "    <tr>\n",
       "      <th>398</th>\n",
       "      <td>2017</td>\n",
       "      <td>N1+1+1 KMg</td>\n",
       "      <td>0</td>\n",
       "      <td>mid_&amp;_late_spring</td>\n",
       "      <td>48</td>\n",
       "      <td>144</td>\n",
       "      <td>0.0</td>\n",
       "      <td>90</td>\n",
       "      <td>0</td>\n",
       "      <td>12</td>\n",
       "      <td>Severus</td>\n",
       "      <td>23.3</td>\n",
       "      <td>7.20</td>\n",
       "      <td>155</td>\n",
       "    </tr>\n",
       "  </tbody>\n",
       "</table>\n",
       "<p>399 rows × 14 columns</p>\n",
       "</div>"
      ],
      "text/plain": [
       "     harvest_year fertilizer_code  fym_applied           n_timing  \\\n",
       "0            1997       FYM N4 PK           35         mid_spring   \n",
       "1            1997          FYM N2           35         mid_spring   \n",
       "2            1997             FYM           35         mid_spring   \n",
       "3            1997             FYM            0         mid_spring   \n",
       "4            1997            PKMg            0         mid_spring   \n",
       "..            ...             ...          ...                ...   \n",
       "394          2017        N5(P)KMg            0         mid_spring   \n",
       "395          2017        N6(P)KMg            0         mid_spring   \n",
       "396          2017     N1+4+1 PKMg            0  mid_&_late_spring   \n",
       "397          2017     N1+2+1 PKMg            0  mid_&_late_spring   \n",
       "398          2017      N1+1+1 KMg            0  mid_&_late_spring   \n",
       "\n",
       "     spring2_n_kg/ha  total_fertilizer_n_amount  p_amount  k_amount  \\\n",
       "0                  0                        192      35.0        90   \n",
       "1                  0                         96       0.0         0   \n",
       "2                  0                          0       0.0         0   \n",
       "3                  0                          0       0.0         0   \n",
       "4                  0                          0      35.0        90   \n",
       "..               ...                        ...       ...       ...   \n",
       "394                0                        240       0.0        90   \n",
       "395                0                        288       0.0        90   \n",
       "396              192                        288      35.0        90   \n",
       "397               96                        192      35.0        90   \n",
       "398               48                        144       0.0        90   \n",
       "\n",
       "     na_amount  mg_amount cultivar  dry_matter_%  yield_100%dm  \\\n",
       "0            0          0   Hudson          36.7         16.36   \n",
       "1            0          0   Hudson          35.8         17.45   \n",
       "2            0          0   Hudson          37.4         17.53   \n",
       "3            0          0   Hudson          31.7          3.64   \n",
       "4            0          0   Hudson          31.3          4.80   \n",
       "..         ...        ...      ...           ...           ...   \n",
       "394          0         12  Severus          24.8         12.89   \n",
       "395          0         12  Severus          24.4         12.91   \n",
       "396          0         12  Severus          25.1         10.79   \n",
       "397          0         12  Severus          26.1         12.79   \n",
       "398          0         12  Severus          23.3          7.20   \n",
       "\n",
       "     days_to_harvest  \n",
       "0                147  \n",
       "1                147  \n",
       "2                147  \n",
       "3                147  \n",
       "4                147  \n",
       "..               ...  \n",
       "394              155  \n",
       "395              155  \n",
       "396              155  \n",
       "397              155  \n",
       "398              155  \n",
       "\n",
       "[399 rows x 14 columns]"
      ]
     },
     "execution_count": 31,
     "metadata": {},
     "output_type": "execute_result"
    }
   ],
   "source": [
    "yield_data"
   ]
  },
  {
   "cell_type": "markdown",
   "metadata": {},
   "source": [
    "# Multivariate time-series forecasting with SARIMAX, LSTM and GRU\n",
    "This notebook assumes your dataset is in a pandas DataFrame named `yield_data` with the columns shown in your sample (including `harvest_year` and `yield_100%dm`).  \n",
    "\n",
    "The notebook:\n",
    "1. Aggregates data yearly (mean) to create a time series.\n",
    "2. Prepares exogenous features.\n",
    "3. Trains SARIMAX (ARIMA-style with exog), an LSTM, and a GRU model to forecast next-year yield.\n",
    "4. Reports RMSE and plots predictions.\n",
    "\n",
    "If you want forecasting at a different frequency or per fertilizer group, adapt the aggregation step.\n"
   ]
  },
  {
   "cell_type": "markdown",
   "metadata": {},
   "source": [
    "## Helper function for calculating evaluation metrics"
   ]
  },
  {
   "cell_type": "code",
   "execution_count": 32,
   "metadata": {},
   "outputs": [],
   "source": [
    "def calculate_metrics(y_true, y_pred):\n",
    "    mse = mean_squared_error(y_true, y_pred)\n",
    "    mae = mean_absolute_error(y_true, y_pred)\n",
    "    mape = np.mean(np.abs((y_true - y_pred) / y_true)) * 100\n",
    "    rmse = math.sqrt(mse)\n",
    "    r2 = r2_score(y_true, y_pred)\n",
    "    return mse, mae, mape, rmse, r2"
   ]
  },
  {
   "cell_type": "code",
   "execution_count": 33,
   "metadata": {},
   "outputs": [
    {
     "name": "stdout",
     "output_type": "stream",
     "text": [
      "Years available: 1997 - 2017\n"
     ]
    },
    {
     "data": {
      "text/html": [
       "<div>\n",
       "<style scoped>\n",
       "    .dataframe tbody tr th:only-of-type {\n",
       "        vertical-align: middle;\n",
       "    }\n",
       "\n",
       "    .dataframe tbody tr th {\n",
       "        vertical-align: top;\n",
       "    }\n",
       "\n",
       "    .dataframe thead th {\n",
       "        text-align: right;\n",
       "    }\n",
       "</style>\n",
       "<table border=\"1\" class=\"dataframe\">\n",
       "  <thead>\n",
       "    <tr style=\"text-align: right;\">\n",
       "      <th></th>\n",
       "      <th>harvest_year</th>\n",
       "      <th>fym_applied</th>\n",
       "      <th>spring2_n_kg/ha</th>\n",
       "      <th>total_fertilizer_n_amount</th>\n",
       "      <th>p_amount</th>\n",
       "      <th>k_amount</th>\n",
       "      <th>na_amount</th>\n",
       "      <th>mg_amount</th>\n",
       "      <th>dry_matter_%</th>\n",
       "      <th>yield_100%dm</th>\n",
       "      <th>days_to_harvest</th>\n",
       "    </tr>\n",
       "    <tr>\n",
       "      <th>date</th>\n",
       "      <th></th>\n",
       "      <th></th>\n",
       "      <th></th>\n",
       "      <th></th>\n",
       "      <th></th>\n",
       "      <th></th>\n",
       "      <th></th>\n",
       "      <th></th>\n",
       "      <th></th>\n",
       "      <th></th>\n",
       "      <th></th>\n",
       "    </tr>\n",
       "  </thead>\n",
       "  <tbody>\n",
       "    <tr>\n",
       "      <th>1997-01-01</th>\n",
       "      <td>1997</td>\n",
       "      <td>5.526316</td>\n",
       "      <td>0.000000</td>\n",
       "      <td>108.631579</td>\n",
       "      <td>23.947368</td>\n",
       "      <td>52.105263</td>\n",
       "      <td>2.894737</td>\n",
       "      <td>1.578947</td>\n",
       "      <td>36.078947</td>\n",
       "      <td>13.012105</td>\n",
       "      <td>147.0</td>\n",
       "    </tr>\n",
       "    <tr>\n",
       "      <th>1998-01-01</th>\n",
       "      <td>1998</td>\n",
       "      <td>5.526316</td>\n",
       "      <td>0.000000</td>\n",
       "      <td>108.631579</td>\n",
       "      <td>23.947368</td>\n",
       "      <td>52.105263</td>\n",
       "      <td>2.894737</td>\n",
       "      <td>14.210526</td>\n",
       "      <td>24.357895</td>\n",
       "      <td>9.834737</td>\n",
       "      <td>132.0</td>\n",
       "    </tr>\n",
       "    <tr>\n",
       "      <th>1999-01-01</th>\n",
       "      <td>1999</td>\n",
       "      <td>5.526316</td>\n",
       "      <td>0.000000</td>\n",
       "      <td>108.631579</td>\n",
       "      <td>23.947368</td>\n",
       "      <td>52.105263</td>\n",
       "      <td>2.894737</td>\n",
       "      <td>1.578947</td>\n",
       "      <td>26.173684</td>\n",
       "      <td>11.180526</td>\n",
       "      <td>138.0</td>\n",
       "    </tr>\n",
       "    <tr>\n",
       "      <th>2000-01-01</th>\n",
       "      <td>2000</td>\n",
       "      <td>5.526316</td>\n",
       "      <td>0.000000</td>\n",
       "      <td>108.631579</td>\n",
       "      <td>23.947368</td>\n",
       "      <td>52.105263</td>\n",
       "      <td>2.894737</td>\n",
       "      <td>1.578947</td>\n",
       "      <td>23.668421</td>\n",
       "      <td>8.442632</td>\n",
       "      <td>121.0</td>\n",
       "    </tr>\n",
       "    <tr>\n",
       "      <th>2001-01-01</th>\n",
       "      <td>2001</td>\n",
       "      <td>3.684211</td>\n",
       "      <td>25.263158</td>\n",
       "      <td>154.105263</td>\n",
       "      <td>9.210526</td>\n",
       "      <td>90.000000</td>\n",
       "      <td>0.000000</td>\n",
       "      <td>11.368421</td>\n",
       "      <td>20.778947</td>\n",
       "      <td>7.407895</td>\n",
       "      <td>112.0</td>\n",
       "    </tr>\n",
       "  </tbody>\n",
       "</table>\n",
       "</div>"
      ],
      "text/plain": [
       "            harvest_year  fym_applied  spring2_n_kg/ha  \\\n",
       "date                                                     \n",
       "1997-01-01          1997     5.526316         0.000000   \n",
       "1998-01-01          1998     5.526316         0.000000   \n",
       "1999-01-01          1999     5.526316         0.000000   \n",
       "2000-01-01          2000     5.526316         0.000000   \n",
       "2001-01-01          2001     3.684211        25.263158   \n",
       "\n",
       "            total_fertilizer_n_amount   p_amount   k_amount  na_amount  \\\n",
       "date                                                                     \n",
       "1997-01-01                 108.631579  23.947368  52.105263   2.894737   \n",
       "1998-01-01                 108.631579  23.947368  52.105263   2.894737   \n",
       "1999-01-01                 108.631579  23.947368  52.105263   2.894737   \n",
       "2000-01-01                 108.631579  23.947368  52.105263   2.894737   \n",
       "2001-01-01                 154.105263   9.210526  90.000000   0.000000   \n",
       "\n",
       "            mg_amount  dry_matter_%  yield_100%dm  days_to_harvest  \n",
       "date                                                                \n",
       "1997-01-01   1.578947     36.078947     13.012105            147.0  \n",
       "1998-01-01  14.210526     24.357895      9.834737            132.0  \n",
       "1999-01-01   1.578947     26.173684     11.180526            138.0  \n",
       "2000-01-01   1.578947     23.668421      8.442632            121.0  \n",
       "2001-01-01  11.368421     20.778947      7.407895            112.0  "
      ]
     },
     "execution_count": 33,
     "metadata": {},
     "output_type": "execute_result"
    }
   ],
   "source": [
    "# Aggregate to yearly series (mean) - adjust if you prefer median or grouping by fertilizer etc.\n",
    "# We take yearly mean of 'yield_100%dm' and also build yearly exogenous features as means.\n",
    "df = yield_data.copy()\n",
    "\n",
    "# Ensure numeric columns are numeric\n",
    "numeric_cols = ['fym_applied', 'spring2_n_kg/ha', 'total_fertilizer_n_amount',\n",
    "                'p_amount', 'k_amount', 'na_amount', 'mg_amount', 'dry_matter_%',\n",
    "                'yield_100%dm', 'days_to_harvest']\n",
    "for c in numeric_cols:\n",
    "    df[c] = pd.to_numeric(df[c], errors='coerce')\n",
    "\n",
    "# Aggregate by harvest_year (mean). You can change aggregation as needed.\n",
    "yearly = df.groupby('harvest_year')[numeric_cols].mean().reset_index()\n",
    "yearly = yearly.sort_values('harvest_year').reset_index(drop=True)\n",
    "\n",
    "# set index as datetime-like for plotting convenience (using year)\n",
    "yearly['date'] = pd.to_datetime(yearly['harvest_year'].astype(int).astype(str) + '-01-01')\n",
    "yearly = yearly.set_index('date')\n",
    "print(\"Years available:\", yearly.index.year.min(), \"-\", yearly.index.year.max())\n",
    "yearly.head()"
   ]
  },
  {
   "cell_type": "code",
   "execution_count": 34,
   "metadata": {},
   "outputs": [
    {
     "name": "stdout",
     "output_type": "stream",
     "text": [
      "Data points: 21\n"
     ]
    }
   ],
   "source": [
    "# Prepare series and exogenous features\n",
    "TARGET = 'yield_100%dm'\n",
    "# choose exogenous predictors (drop the target)\n",
    "exog_features = ['fym_applied', 'spring2_n_kg/ha', 'total_fertilizer_n_amount',\n",
    "                 'p_amount', 'k_amount', 'na_amount', 'mg_amount', 'dry_matter_%', 'days_to_harvest']\n",
    "\n",
    "# drop rows with NaN in target\n",
    "yearly = yearly.dropna(subset=[TARGET])\n",
    "yearly = yearly.dropna(subset=exog_features)  # ensure exog are present\n",
    "\n",
    "y = yearly[TARGET]\n",
    "X = yearly[exog_features]\n",
    "\n",
    "print(f\"Data points: {len(y)}\")"
   ]
  },
  {
   "cell_type": "code",
   "execution_count": 35,
   "metadata": {},
   "outputs": [
    {
     "name": "stdout",
     "output_type": "stream",
     "text": [
      "Train years: 1997 - 2013\n",
      "Test years: 2014 - 2017\n"
     ]
    }
   ],
   "source": [
    "# Train-test split by time (e.g., last 20% years for test)\n",
    "n = len(y)\n",
    "test_size = max(1, int(n * 0.2))\n",
    "train_size = n - test_size\n",
    "\n",
    "y_train, y_test = y.iloc[:train_size], y.iloc[train_size:]\n",
    "X_train, X_test = X.iloc[:train_size], X.iloc[train_size:]\n",
    "\n",
    "print(\"Train years:\", y_train.index.year.min(), \"-\", y_train.index.year.max())\n",
    "print(\"Test years:\", y_test.index.year.min(), \"-\", y_test.index.year.max())"
   ]
  },
  {
   "cell_type": "code",
   "execution_count": 36,
   "metadata": {},
   "outputs": [
    {
     "name": "stdout",
     "output_type": "stream",
     "text": [
      "Fitting SARIMAX ... (may take a moment)\n",
      "                               SARIMAX Results                                \n",
      "==============================================================================\n",
      "Dep. Variable:           yield_100%dm   No. Observations:                   17\n",
      "Model:               SARIMAX(1, 1, 1)   Log Likelihood                 -26.907\n",
      "Date:                Wed, 13 Aug 2025   AIC                             77.815\n",
      "Time:                        13:03:28   BIC                             85.484\n",
      "Sample:                    01-01-1997   HQIC                            77.105\n",
      "                         - 01-01-2013                                         \n",
      "Covariance Type:                  opg                                         \n",
      "=============================================================================================\n",
      "                                coef    std err          z      P>|z|      [0.025      0.975]\n",
      "---------------------------------------------------------------------------------------------\n",
      "fym_applied                  -0.0514      0.172     -0.298      0.766      -0.389       0.286\n",
      "spring2_n_kg/ha               0.6954      2.363      0.294      0.769      -3.935       5.326\n",
      "total_fertilizer_n_amount    -0.5474      1.681     -0.326      0.745      -3.842       2.747\n",
      "p_amount                     -0.4135      1.378     -0.300      0.764      -3.115       2.288\n",
      "k_amount                      0.0046      0.459      0.010      0.992      -0.895       0.904\n",
      "na_amount                    -0.0808      0.271     -0.298      0.765      -0.611       0.450\n",
      "mg_amount                     0.1150      5.064      0.023      0.982      -9.810      10.040\n",
      "dry_matter_%                  0.2939      0.223      1.315      0.188      -0.144       0.732\n",
      "days_to_harvest               0.0366      0.098      0.372      0.710      -0.156       0.229\n",
      "ar.L1                        -0.2696      1.201     -0.225      0.822      -2.623       2.084\n",
      "ma.L1                        -0.9992    105.608     -0.009      0.992    -207.988     205.989\n",
      "sigma2                        2.3577    248.602      0.009      0.992    -484.892     489.608\n",
      "===================================================================================\n",
      "Ljung-Box (L1) (Q):                   0.08   Jarque-Bera (JB):                 0.66\n",
      "Prob(Q):                              0.78   Prob(JB):                         0.72\n",
      "Heteroskedasticity (H):               1.68   Skew:                             0.53\n",
      "Prob(H) (two-sided):                  0.58   Kurtosis:                         2.95\n",
      "===================================================================================\n",
      "\n",
      "Warnings:\n",
      "[1] Covariance matrix calculated using the outer product of gradients (complex-step).\n",
      "[2] Covariance matrix is singular or near-singular, with condition number 7.93e+22. Standard errors may be unstable.\n",
      "SARIMAX RMSE: 2.4649\n"
     ]
    }
   ],
   "source": [
    "# We'll fit a simple SARIMAX(p,d,q) with exog. Choose small orders as a baseline (e.g., p=1,d=1,q=1).\n",
    "# For a production model you should grid-search p,d,q using AIC/BIC or cross-validation.\n",
    "order = (1, 1, 1)\n",
    "\n",
    "print(\"Fitting SARIMAX ... (may take a moment)\")\n",
    "sarimax_model = sm.tsa.SARIMAX(y_train, exog=X_train, order=order, enforce_stationarity=False, enforce_invertibility=False)\n",
    "sarimax_res = sarimax_model.fit(disp=False)\n",
    "print(sarimax_res.summary())\n",
    "# Forecast\n",
    "sarimax_forecast = sarimax_res.get_forecast(steps=test_size, exog=X_test)\n",
    "y_pred_sarimax = sarimax_forecast.predicted_mean\n",
    "rmse_sarimax = math.sqrt(mean_squared_error(y_test, y_pred_sarimax))\n",
    "print(f\"SARIMAX RMSE: {rmse_sarimax:.4f}\")"
   ]
  },
  {
   "cell_type": "markdown",
   "metadata": {},
   "source": [
    "## LSTM FIT"
   ]
  },
  {
   "cell_type": "code",
   "execution_count": 37,
   "metadata": {},
   "outputs": [
    {
     "name": "stdout",
     "output_type": "stream",
     "text": [
      "Train seq shape: (14, 3, 9) (14,)\n",
      "Test seq shape: (4, 3, 9) (4,)\n"
     ]
    }
   ],
   "source": [
    "# Normalize features. We'll scale X and y separately.\n",
    "scaler_X = StandardScaler()\n",
    "scaler_y = StandardScaler()\n",
    "\n",
    "X_all = pd.concat([X_train, X_test])\n",
    "scaler_X.fit(X_all)\n",
    "X_train_scaled = scaler_X.transform(X_train)\n",
    "X_test_scaled  = scaler_X.transform(X_test)\n",
    "\n",
    "scaler_y.fit(y_train.values.reshape(-1,1))\n",
    "y_train_scaled = scaler_y.transform(y_train.values.reshape(-1,1)).flatten()\n",
    "\n",
    "# Create sequences: window_length years -> predict next year yield\n",
    "window = 3  # you can change this (number of past years used to predict next year)\n",
    "def make_sequences(X_scaled, y_scaled, window):\n",
    "    Xs, ys = [], []\n",
    "    for i in range(len(X_scaled) - window):\n",
    "        Xs.append(X_scaled[i:(i+window), :])\n",
    "        ys.append(y_scaled[i+window])\n",
    "    return np.array(Xs), np.array(ys)\n",
    "\n",
    "# Build sequences from the training portion only\n",
    "X_train_seq, y_train_seq = make_sequences(X_train_scaled, scaler_y.transform(y_train.values.reshape(-1,1)).flatten(), window)\n",
    "\n",
    "# For test sequences we need to produce sequences that may include the end of train data.\n",
    "# Construct a combined scaled X for sequence building\n",
    "X_combined_scaled = np.vstack([X_train_scaled, X_test_scaled])\n",
    "y_combined_scaled = np.vstack([scaler_y.transform(y_train.values.reshape(-1,1)), scaler_y.transform(y_test.values.reshape(-1,1))]).flatten()\n",
    "X_all_seq, y_all_seq = make_sequences(X_combined_scaled, y_combined_scaled, window)\n",
    "\n",
    "# Find the start index of test sequences within X_all_seq\n",
    "# The first test prediction corresponds to index = len(X_train_scaled) - window\n",
    "start_idx = len(X_train_scaled) - window\n",
    "X_test_seq = X_all_seq[start_idx : start_idx + len(y_test)]\n",
    "y_test_seq = y_all_seq[start_idx : start_idx + len(y_test)]\n",
    "\n",
    "print(\"Train seq shape:\", X_train_seq.shape, y_train_seq.shape)\n",
    "print(\"Test seq shape:\", X_test_seq.shape, y_test_seq.shape)"
   ]
  },
  {
   "cell_type": "code",
   "execution_count": 38,
   "metadata": {},
   "outputs": [
    {
     "name": "stdout",
     "output_type": "stream",
     "text": [
      "\u001b[1m1/1\u001b[0m \u001b[32m━━━━━━━━━━━━━━━━━━━━\u001b[0m\u001b[37m\u001b[0m \u001b[1m0s\u001b[0m 177ms/step\n",
      "LSTM RMSE: 2.0753\n"
     ]
    }
   ],
   "source": [
    "# Build and train LSTM\n",
    "def build_lstm(input_shape, units=64, dropout=0.2):\n",
    "    model = Sequential()\n",
    "    model.add(LSTM(units, input_shape=input_shape))\n",
    "    model.add(Dropout(dropout))\n",
    "    model.add(Dense(1))\n",
    "    model.compile(optimizer='adam', loss='mse')\n",
    "    return model\n",
    "\n",
    "input_shape = (X_train_seq.shape[1], X_train_seq.shape[2])\n",
    "lstm_model = build_lstm(input_shape, units=64, dropout=0.2)\n",
    "es = EarlyStopping(monitor='val_loss', patience=20, restore_best_weights=True, verbose=0)\n",
    "\n",
    "history = lstm_model.fit(X_train_seq, y_train_seq,\n",
    "                         epochs=300,\n",
    "                         batch_size=8,\n",
    "                         validation_split=0.1,\n",
    "                         callbacks=[es],\n",
    "                         verbose=0)\n",
    "\n",
    "# Predict and inverse-scale\n",
    "y_pred_lstm_scaled = lstm_model.predict(X_test_seq).flatten()\n",
    "y_pred_lstm = scaler_y.inverse_transform(y_pred_lstm_scaled.reshape(-1,1)).flatten()\n",
    "rmse_lstm = math.sqrt(mean_squared_error(y_test.values, y_pred_lstm))\n",
    "print(f\"LSTM RMSE: {rmse_lstm:.4f}\")"
   ]
  },
  {
   "cell_type": "markdown",
   "metadata": {},
   "source": [
    "## GRU FIT"
   ]
  },
  {
   "cell_type": "code",
   "execution_count": 39,
   "metadata": {},
   "outputs": [
    {
     "name": "stdout",
     "output_type": "stream",
     "text": [
      "\u001b[1m1/1\u001b[0m \u001b[32m━━━━━━━━━━━━━━━━━━━━\u001b[0m\u001b[37m\u001b[0m \u001b[1m0s\u001b[0m 211ms/step\n",
      "GRU RMSE: 1.9537\n"
     ]
    }
   ],
   "source": [
    "# Build and train GRU (same approach)\n",
    "def build_gru(input_shape, units=64, dropout=0.2):\n",
    "    model = Sequential()\n",
    "    model.add(GRU(units, input_shape=input_shape))\n",
    "    model.add(Dropout(dropout))\n",
    "    model.add(Dense(1))\n",
    "    model.compile(optimizer='adam', loss='mse')\n",
    "    return model\n",
    "\n",
    "gru_model = build_gru(input_shape, units=64, dropout=0.2)\n",
    "es2 = EarlyStopping(monitor='val_loss', patience=20, restore_best_weights=True, verbose=0)\n",
    "\n",
    "history_gru = gru_model.fit(X_train_seq, y_train_seq,\n",
    "                           epochs=300,\n",
    "                           batch_size=8,\n",
    "                           validation_split=0.1,\n",
    "                           callbacks=[es2],\n",
    "                           verbose=0)\n",
    "\n",
    "y_pred_gru_scaled = gru_model.predict(X_test_seq).flatten()\n",
    "y_pred_gru = scaler_y.inverse_transform(y_pred_gru_scaled.reshape(-1,1)).flatten()\n",
    "rmse_gru = math.sqrt(mean_squared_error(y_test.values, y_pred_gru))\n",
    "print(f\"GRU RMSE: {rmse_gru:.4f}\")"
   ]
  },
  {
   "cell_type": "code",
   "execution_count": 40,
   "metadata": {},
   "outputs": [
    {
     "name": "stdout",
     "output_type": "stream",
     "text": [
      "=== Model Evaluation Metrics ===\n",
      "SARIMAX - MSE: 6.0759, MAE: 2.2906, MAPE: 29.81%, RMSE: 2.4649, AIC: 77.81\n",
      "LSTM    - MSE: 4.3069, MAE: 1.9171, MAPE: 21.83%, RMSE: 2.0753, AIC: 38023.84\n",
      "GRU     - MSE: 3.8168, MAE: 1.7329, MAPE: 19.52%, RMSE: 1.9537, AIC: 28935.36\n"
     ]
    }
   ],
   "source": [
    "import numpy as np\n",
    "\n",
    "# SARIMAX metrics\n",
    "mse_sarimax, mae_sarimax, mape_sarimax, rmse_sarimax, rsq_sarimax = calculate_metrics(y_test.values, y_pred_sarimax.values)\n",
    "aic_sarimax = sarimax_res.aic\n",
    "\n",
    "# LSTM metrics\n",
    "mse_lstm, mae_lstm, mape_lstm, rmse_lstm, rsq_lstm = calculate_metrics(y_test.values, y_pred_lstm)\n",
    "n_lstm = len(y_test)\n",
    "k_lstm = lstm_model.count_params()\n",
    "aic_lstm = n_lstm * np.log(mse_lstm) + 2 * k_lstm\n",
    "\n",
    "# GRU metrics\n",
    "mse_gru, mae_gru, mape_gru, rmse_gru, rsq_gru = calculate_metrics(y_test.values, y_pred_gru)\n",
    "n_gru = len(y_test)\n",
    "k_gru = gru_model.count_params()\n",
    "aic_gru = n_gru * np.log(mse_gru) + 2 * k_gru\n",
    "\n",
    "# Display results\n",
    "print(\"=== Model Evaluation Metrics ===\")\n",
    "print(f\"SARIMAX - MSE: {mse_sarimax:.4f}, MAE: {mae_sarimax:.4f}, MAPE: {mape_sarimax:.2f}%, RMSE: {rmse_sarimax:.4f}, AIC: {aic_sarimax:.2f}\")\n",
    "print(f\"LSTM    - MSE: {mse_lstm:.4f}, MAE: {mae_lstm:.4f}, MAPE: {mape_lstm:.2f}%, RMSE: {rmse_lstm:.4f}, AIC: {aic_lstm:.2f}\")\n",
    "print(f\"GRU     - MSE: {mse_gru:.4f}, MAE: {mae_gru:.4f}, MAPE: {mape_gru:.2f}%, RMSE: {rmse_gru:.4f}, AIC: {aic_gru:.2f}\")\n"
   ]
  },
  {
   "cell_type": "code",
   "execution_count": 11,
   "metadata": {},
   "outputs": [
    {
     "data": {
      "image/png": "[encoded data removed]",
      "text/plain": [
       "<Figure size 800x600 with 1 Axes>"
      ]
     },
     "metadata": {},
     "output_type": "display_data"
    }
   ],
   "source": [
    "# Data\n",
    "models = [\"SARIMAX\", \"LSTM\", \"GRU\"]\n",
    "metrics = [\"MSE\", \"MAE\", \"MAPE\", \"RMSE\"]\n",
    "\n",
    "values = [\n",
    "    [6.0759, 2.2906, 29.81, 2.4649],    # SARIMAX\n",
    "    [4.3069, 1.9171, 21.83, 2.0753],    # LSTM\n",
    "    [3.8168, 1.7329, 19.52, 1.9537]     # GRU\n",
    "]\n",
    "\n",
    "# Bar settings\n",
    "x = np.arange(len(models))  # positions for models\n",
    "width = 0.2  # width of each metric bar\n",
    "\n",
    "fig, ax = plt.subplots(figsize=(8, 6))\n",
    "\n",
    "# Plot each metric as an offset bar\n",
    "for i, metric in enumerate(metrics):\n",
    "    ax.bar(x + i * width - (width * (len(metrics)-1) / 2),\n",
    "           [v[i] for v in values],\n",
    "           width,\n",
    "           label=metric)\n",
    "\n",
    "# Labels and title\n",
    "ax.set_ylabel('Metric Value')\n",
    "ax.set_xlabel('Models')\n",
    "ax.set_title('Model Evaluation Metrics')\n",
    "ax.set_xticks(x)\n",
    "ax.set_xticklabels(models)\n",
    "ax.legend()\n",
    "\n",
    "plt.tight_layout()\n",
    "plt.show()\n"
   ]
  },
  {
   "cell_type": "code",
   "execution_count": null,
   "metadata": {},
   "outputs": [],
   "source": []
  }
 ],
 "metadata": {
  "colab": {
   "provenance": []
  },
  "kernelspec": {
   "display_name": "Python 3 (ipykernel)",
   "language": "python",
   "name": "python3"
  },
  "language_info": {
   "codemirror_mode": {
    "name": "ipython",
    "version": 3
   },
   "file_extension": ".py",
   "mimetype": "text/x-python",
   "name": "python",
   "nbconvert_exporter": "python",
   "pygments_lexer": "ipython3",
   "version": "3.11.5"
  }
 },
 "nbformat": 4,
 "nbformat_minor": 1
}
